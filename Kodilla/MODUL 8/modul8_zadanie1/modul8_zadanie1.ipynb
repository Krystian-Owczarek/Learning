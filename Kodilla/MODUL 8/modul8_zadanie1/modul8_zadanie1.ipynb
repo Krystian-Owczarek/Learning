{
 "cells": [
  {
   "cell_type": "code",
   "execution_count": 111,
   "id": "b50780e9",
   "metadata": {},
   "outputs": [],
   "source": [
    "import pandas as pd\n",
    "import numpy as np\n",
    "import csv"
   ]
  },
  {
   "cell_type": "markdown",
   "id": "647d747b",
   "metadata": {},
   "source": [
    "Wczytaj do Pandas"
   ]
  },
  {
   "cell_type": "code",
   "execution_count": 14,
   "id": "ef3f19f0",
   "metadata": {},
   "outputs": [],
   "source": [
    "albums_list = pd.read_html('https://www.officialcharts.com/chart-news/the-best-selling-albums-of-all-time-on-the-official-uk-chart__15551/', header=0)"
   ]
  },
  {
   "cell_type": "code",
   "execution_count": 21,
   "id": "01eb20b4",
   "metadata": {},
   "outputs": [],
   "source": [
    "albums = albums_list[0] "
   ]
  },
  {
   "cell_type": "code",
   "execution_count": 22,
   "id": "2edc1493",
   "metadata": {},
   "outputs": [
    {
     "data": {
      "text/html": [
       "<div>\n",
       "<style scoped>\n",
       "    .dataframe tbody tr th:only-of-type {\n",
       "        vertical-align: middle;\n",
       "    }\n",
       "\n",
       "    .dataframe tbody tr th {\n",
       "        vertical-align: top;\n",
       "    }\n",
       "\n",
       "    .dataframe thead th {\n",
       "        text-align: right;\n",
       "    }\n",
       "</style>\n",
       "<table border=\"1\" class=\"dataframe\">\n",
       "  <thead>\n",
       "    <tr style=\"text-align: right;\">\n",
       "      <th></th>\n",
       "      <th>POS</th>\n",
       "      <th>TITLE</th>\n",
       "      <th>ARTIST</th>\n",
       "      <th>YEAR</th>\n",
       "      <th>HIGH POSN</th>\n",
       "    </tr>\n",
       "  </thead>\n",
       "  <tbody>\n",
       "    <tr>\n",
       "      <th>0</th>\n",
       "      <td>1</td>\n",
       "      <td>GREATEST HITS</td>\n",
       "      <td>QUEEN</td>\n",
       "      <td>1981</td>\n",
       "      <td>1</td>\n",
       "    </tr>\n",
       "    <tr>\n",
       "      <th>1</th>\n",
       "      <td>2</td>\n",
       "      <td>GOLD - GREATEST HITS</td>\n",
       "      <td>ABBA</td>\n",
       "      <td>1992</td>\n",
       "      <td>1</td>\n",
       "    </tr>\n",
       "    <tr>\n",
       "      <th>2</th>\n",
       "      <td>3</td>\n",
       "      <td>SGT PEPPER'S LONELY HEARTS CLUB BAND</td>\n",
       "      <td>BEATLES</td>\n",
       "      <td>1967</td>\n",
       "      <td>1</td>\n",
       "    </tr>\n",
       "    <tr>\n",
       "      <th>3</th>\n",
       "      <td>4</td>\n",
       "      <td>21</td>\n",
       "      <td>ADELE</td>\n",
       "      <td>2011</td>\n",
       "      <td>1</td>\n",
       "    </tr>\n",
       "    <tr>\n",
       "      <th>4</th>\n",
       "      <td>5</td>\n",
       "      <td>WHAT'S THE STORY MORNING GLORY</td>\n",
       "      <td>OASIS</td>\n",
       "      <td>1995</td>\n",
       "      <td>1</td>\n",
       "    </tr>\n",
       "  </tbody>\n",
       "</table>\n",
       "</div>"
      ],
      "text/plain": [
       "   POS                                 TITLE   ARTIST  YEAR  HIGH POSN\n",
       "0    1                         GREATEST HITS    QUEEN  1981          1\n",
       "1    2                  GOLD - GREATEST HITS     ABBA  1992          1\n",
       "2    3  SGT PEPPER'S LONELY HEARTS CLUB BAND  BEATLES  1967          1\n",
       "3    4                                    21    ADELE  2011          1\n",
       "4    5        WHAT'S THE STORY MORNING GLORY    OASIS  1995          1"
      ]
     },
     "execution_count": 22,
     "metadata": {},
     "output_type": "execute_result"
    }
   ],
   "source": [
    "albums.head()"
   ]
  },
  {
   "cell_type": "markdown",
   "id": "66f981d6",
   "metadata": {},
   "source": [
    "Listę zapisz do pliku csv"
   ]
  },
  {
   "cell_type": "code",
   "execution_count": 37,
   "id": "ae7aa4c4",
   "metadata": {},
   "outputs": [],
   "source": [
    "albums.to_csv('top_selling_albums.csv', index=False)"
   ]
  },
  {
   "cell_type": "code",
   "execution_count": 49,
   "id": "579de6a7",
   "metadata": {},
   "outputs": [],
   "source": [
    "albums = pd.read_csv('top_selling_albums.csv', index_col=False)"
   ]
  },
  {
   "cell_type": "markdown",
   "id": "e321004b",
   "metadata": {},
   "source": [
    "Zamień nagłówki kolumn na polskie odpowiedniki"
   ]
  },
  {
   "cell_type": "code",
   "execution_count": 55,
   "id": "5bb2d3c3",
   "metadata": {},
   "outputs": [],
   "source": [
    "albums.rename(columns={'POS':'POZYCJA', 'TITLE':'TYTYŁ', 'ARTIST':'ARTYSTA', 'YEAR':'ROK', 'HIGH POSN':'MAX POZ'}, inplace=True)"
   ]
  },
  {
   "cell_type": "markdown",
   "id": "97aec2b9",
   "metadata": {},
   "source": [
    "Ilu pojedynczych artystów znajduje się na liście?"
   ]
  },
  {
   "cell_type": "code",
   "execution_count": 57,
   "id": "4e34e0a0",
   "metadata": {},
   "outputs": [
    {
     "data": {
      "text/plain": [
       "47"
      ]
     },
     "execution_count": 57,
     "metadata": {},
     "output_type": "execute_result"
    }
   ],
   "source": [
    "albums['ARTYSTA'].nunique()"
   ]
  },
  {
   "cell_type": "markdown",
   "id": "0604e58a",
   "metadata": {},
   "source": [
    "Które zespoły pojawiają się najczęściej na liście?"
   ]
  },
  {
   "cell_type": "code",
   "execution_count": 59,
   "id": "750a9c56",
   "metadata": {},
   "outputs": [
    {
     "data": {
      "text/plain": [
       "COLDPLAY                    3\n",
       "TAKE THAT                   3\n",
       "FLEETWOOD MAC               2\n",
       "ABBA                        2\n",
       "DIDO                        2\n",
       "ORIGINAL SOUNDTRACK         2\n",
       "QUEEN                       2\n",
       "ROBBIE WILLIAMS             2\n",
       "BEATLES                     2\n",
       "MICHAEL JACKSON             2\n",
       "ADELE                       2\n",
       "SNOW PATROL                 1\n",
       "KEANE                       1\n",
       "U2                          1\n",
       "JEFF WAYNE                  1\n",
       "SCISSOR SISTERS             1\n",
       "PHIL COLLINS                1\n",
       "GEORGE MICHAEL              1\n",
       "EMINEM                      1\n",
       "MIKE OLDFIELD               1\n",
       "TRAVIS                      1\n",
       "TRACY CHAPMAN               1\n",
       "ED SHEERAN                  1\n",
       "NORAH JONES                 1\n",
       "PAUL SIMON                  1\n",
       "ORIGINAL CAST RECORDING     1\n",
       "ALANIS MORISSETTE           1\n",
       "CORRS                       1\n",
       "KINGS OF LEON               1\n",
       "BOB MARLEY & THE WAILERS    1\n",
       "OASIS                       1\n",
       "PINK FLOYD                  1\n",
       "DIRE STRAITS                1\n",
       "MADONNA                     1\n",
       "AMY WINEHOUSE               1\n",
       "SIMPLY RED                  1\n",
       "SHANIA TWAIN                1\n",
       "JAMES BLUNT                 1\n",
       "LADY GAGA                   1\n",
       "VERVE                       1\n",
       "MEAT LOAF                   1\n",
       "SIMON & GARFUNKEL           1\n",
       "LEONA LEWIS                 1\n",
       "MICHAEL BUBLE               1\n",
       "DAVID GRAY                  1\n",
       "SPICE GIRLS                 1\n",
       "REM                         1\n",
       "Name: ARTYSTA, dtype: int64"
      ]
     },
     "execution_count": 59,
     "metadata": {},
     "output_type": "execute_result"
    }
   ],
   "source": [
    "albums['ARTYSTA'].value_counts()"
   ]
  },
  {
   "cell_type": "markdown",
   "id": "36a02243",
   "metadata": {},
   "source": [
    "Zmień nagłówki kolumn, tak aby każdy z nich rozpoczynał się od wielkiej litery, a pozostałe były wprowadzone małymi literami."
   ]
  },
  {
   "cell_type": "code",
   "execution_count": 64,
   "id": "90c5cee8",
   "metadata": {},
   "outputs": [],
   "source": [
    "albums.rename(columns=str.capitalize, inplace=True)"
   ]
  },
  {
   "cell_type": "markdown",
   "id": "3d85f8ca",
   "metadata": {},
   "source": [
    "Wyrzuć z tabeli kolumnę ‘Max Poz’."
   ]
  },
  {
   "cell_type": "code",
   "execution_count": 67,
   "id": "54aa45f3",
   "metadata": {},
   "outputs": [],
   "source": [
    "albums.drop('Max poz', axis=1, inplace=True)"
   ]
  },
  {
   "cell_type": "markdown",
   "id": "ef86abdf",
   "metadata": {},
   "source": [
    "W którym roku wyszło najwięcej albumów znajdujących się na liście?"
   ]
  },
  {
   "cell_type": "code",
   "execution_count": 72,
   "id": "ca2ceef6",
   "metadata": {},
   "outputs": [
    {
     "data": {
      "text/html": [
       "<div>\n",
       "<style scoped>\n",
       "    .dataframe tbody tr th:only-of-type {\n",
       "        vertical-align: middle;\n",
       "    }\n",
       "\n",
       "    .dataframe tbody tr th {\n",
       "        vertical-align: top;\n",
       "    }\n",
       "\n",
       "    .dataframe thead th {\n",
       "        text-align: right;\n",
       "    }\n",
       "</style>\n",
       "<table border=\"1\" class=\"dataframe\">\n",
       "  <thead>\n",
       "    <tr style=\"text-align: right;\">\n",
       "      <th></th>\n",
       "      <th>Rok</th>\n",
       "    </tr>\n",
       "  </thead>\n",
       "  <tbody>\n",
       "    <tr>\n",
       "      <th>2000</th>\n",
       "      <td>4</td>\n",
       "    </tr>\n",
       "  </tbody>\n",
       "</table>\n",
       "</div>"
      ],
      "text/plain": [
       "      Rok\n",
       "2000    4"
      ]
     },
     "execution_count": 72,
     "metadata": {},
     "output_type": "execute_result"
    }
   ],
   "source": [
    "most_albums_year = albums['Rok'].value_counts().to_frame()\n",
    "most_albums_year.iloc[[0]]"
   ]
  },
  {
   "cell_type": "markdown",
   "id": "4e034dc3",
   "metadata": {},
   "source": [
    "Ile albumów wydanych między 1960 a 1990 rokiem włącznie znajduje się na liście?"
   ]
  },
  {
   "cell_type": "code",
   "execution_count": 91,
   "id": "5c16bc7a",
   "metadata": {},
   "outputs": [
    {
     "data": {
      "text/plain": [
       "21"
      ]
     },
     "execution_count": 91,
     "metadata": {},
     "output_type": "execute_result"
    }
   ],
   "source": [
    "albums_between_years = albums[(albums['Rok'] > 1960) & (albums['Rok'] < 1990)]\n",
    "len(albums_between_years)"
   ]
  },
  {
   "cell_type": "markdown",
   "id": "4f4d919a",
   "metadata": {},
   "source": [
    "W którym roku wydany został najmłodszy album na liście?"
   ]
  },
  {
   "cell_type": "code",
   "execution_count": 92,
   "id": "dae43abe",
   "metadata": {},
   "outputs": [
    {
     "data": {
      "text/plain": [
       "2015"
      ]
     },
     "execution_count": 92,
     "metadata": {},
     "output_type": "execute_result"
    }
   ],
   "source": [
    "albums['Rok'].max()"
   ]
  },
  {
   "cell_type": "markdown",
   "id": "56928bf0",
   "metadata": {},
   "source": [
    "Przygotuj listę najwcześniej wydanych albumów każdego artysty, który znalazł się na liście."
   ]
  },
  {
   "cell_type": "code",
   "execution_count": 98,
   "id": "29b1c382",
   "metadata": {},
   "outputs": [
    {
     "data": {
      "text/html": [
       "<div>\n",
       "<style scoped>\n",
       "    .dataframe tbody tr th:only-of-type {\n",
       "        vertical-align: middle;\n",
       "    }\n",
       "\n",
       "    .dataframe tbody tr th {\n",
       "        vertical-align: top;\n",
       "    }\n",
       "\n",
       "    .dataframe thead th {\n",
       "        text-align: right;\n",
       "    }\n",
       "</style>\n",
       "<table border=\"1\" class=\"dataframe\">\n",
       "  <thead>\n",
       "    <tr style=\"text-align: right;\">\n",
       "      <th></th>\n",
       "      <th>Pozycja</th>\n",
       "      <th>Tytył</th>\n",
       "      <th>Rok</th>\n",
       "    </tr>\n",
       "    <tr>\n",
       "      <th>Artysta</th>\n",
       "      <th></th>\n",
       "      <th></th>\n",
       "      <th></th>\n",
       "    </tr>\n",
       "  </thead>\n",
       "  <tbody>\n",
       "    <tr>\n",
       "      <th>ABBA</th>\n",
       "      <td>46</td>\n",
       "      <td>GREATEST HITS</td>\n",
       "      <td>1992</td>\n",
       "    </tr>\n",
       "    <tr>\n",
       "      <th>ADELE</th>\n",
       "      <td>27</td>\n",
       "      <td>25</td>\n",
       "      <td>2015</td>\n",
       "    </tr>\n",
       "    <tr>\n",
       "      <th>ALANIS MORISSETTE</th>\n",
       "      <td>41</td>\n",
       "      <td>JAGGED LITTLE PILL</td>\n",
       "      <td>1995</td>\n",
       "    </tr>\n",
       "    <tr>\n",
       "      <th>AMY WINEHOUSE</th>\n",
       "      <td>13</td>\n",
       "      <td>BACK TO BLACK</td>\n",
       "      <td>2006</td>\n",
       "    </tr>\n",
       "    <tr>\n",
       "      <th>BEATLES</th>\n",
       "      <td>20</td>\n",
       "      <td>SGT PEPPER'S LONELY HEARTS CLUB BAND</td>\n",
       "      <td>2000</td>\n",
       "    </tr>\n",
       "    <tr>\n",
       "      <th>BOB MARLEY &amp; THE WAILERS</th>\n",
       "      <td>16</td>\n",
       "      <td>LEGEND</td>\n",
       "      <td>1984</td>\n",
       "    </tr>\n",
       "    <tr>\n",
       "      <th>COLDPLAY</th>\n",
       "      <td>45</td>\n",
       "      <td>X&amp;Y</td>\n",
       "      <td>2005</td>\n",
       "    </tr>\n",
       "    <tr>\n",
       "      <th>CORRS</th>\n",
       "      <td>28</td>\n",
       "      <td>TALK ON CORNERS</td>\n",
       "      <td>1997</td>\n",
       "    </tr>\n",
       "    <tr>\n",
       "      <th>DAVID GRAY</th>\n",
       "      <td>26</td>\n",
       "      <td>WHITE LADDER</td>\n",
       "      <td>1998</td>\n",
       "    </tr>\n",
       "    <tr>\n",
       "      <th>DIDO</th>\n",
       "      <td>32</td>\n",
       "      <td>NO ANGEL</td>\n",
       "      <td>2003</td>\n",
       "    </tr>\n",
       "    <tr>\n",
       "      <th>DIRE STRAITS</th>\n",
       "      <td>8</td>\n",
       "      <td>BROTHERS IN ARMS</td>\n",
       "      <td>1985</td>\n",
       "    </tr>\n",
       "    <tr>\n",
       "      <th>ED SHEERAN</th>\n",
       "      <td>49</td>\n",
       "      <td>X</td>\n",
       "      <td>2014</td>\n",
       "    </tr>\n",
       "    <tr>\n",
       "      <th>EMINEM</th>\n",
       "      <td>55</td>\n",
       "      <td>THE MARSHALL MATHERS LP</td>\n",
       "      <td>2000</td>\n",
       "    </tr>\n",
       "    <tr>\n",
       "      <th>FLEETWOOD MAC</th>\n",
       "      <td>54</td>\n",
       "      <td>TANGO IN THE NIGHT</td>\n",
       "      <td>1987</td>\n",
       "    </tr>\n",
       "    <tr>\n",
       "      <th>GEORGE MICHAEL</th>\n",
       "      <td>53</td>\n",
       "      <td>LADIES &amp; GENTLEMEN - THE BEST OF</td>\n",
       "      <td>1998</td>\n",
       "    </tr>\n",
       "    <tr>\n",
       "      <th>JAMES BLUNT</th>\n",
       "      <td>17</td>\n",
       "      <td>BACK TO BEDLAM</td>\n",
       "      <td>2004</td>\n",
       "    </tr>\n",
       "    <tr>\n",
       "      <th>JEFF WAYNE</th>\n",
       "      <td>37</td>\n",
       "      <td>THE WAR OF THE WORLDS</td>\n",
       "      <td>1978</td>\n",
       "    </tr>\n",
       "    <tr>\n",
       "      <th>KEANE</th>\n",
       "      <td>35</td>\n",
       "      <td>HOPES AND FEARS</td>\n",
       "      <td>2004</td>\n",
       "    </tr>\n",
       "    <tr>\n",
       "      <th>KINGS OF LEON</th>\n",
       "      <td>33</td>\n",
       "      <td>ONLY BY THE NIGHT</td>\n",
       "      <td>2008</td>\n",
       "    </tr>\n",
       "    <tr>\n",
       "      <th>LADY GAGA</th>\n",
       "      <td>30</td>\n",
       "      <td>THE FAME</td>\n",
       "      <td>2008</td>\n",
       "    </tr>\n",
       "    <tr>\n",
       "      <th>LEONA LEWIS</th>\n",
       "      <td>23</td>\n",
       "      <td>SPIRIT</td>\n",
       "      <td>2007</td>\n",
       "    </tr>\n",
       "    <tr>\n",
       "      <th>MADONNA</th>\n",
       "      <td>12</td>\n",
       "      <td>THE IMMACULATE COLLECTION</td>\n",
       "      <td>1990</td>\n",
       "    </tr>\n",
       "    <tr>\n",
       "      <th>MEAT LOAF</th>\n",
       "      <td>19</td>\n",
       "      <td>BAT OUT OF HELL</td>\n",
       "      <td>1977</td>\n",
       "    </tr>\n",
       "    <tr>\n",
       "      <th>MICHAEL BUBLE</th>\n",
       "      <td>24</td>\n",
       "      <td>CRAZY LOVE</td>\n",
       "      <td>2009</td>\n",
       "    </tr>\n",
       "    <tr>\n",
       "      <th>MICHAEL JACKSON</th>\n",
       "      <td>9</td>\n",
       "      <td>THRILLER</td>\n",
       "      <td>1987</td>\n",
       "    </tr>\n",
       "    <tr>\n",
       "      <th>MIKE OLDFIELD</th>\n",
       "      <td>42</td>\n",
       "      <td>TUBULAR BELLS</td>\n",
       "      <td>1973</td>\n",
       "    </tr>\n",
       "    <tr>\n",
       "      <th>NORAH JONES</th>\n",
       "      <td>50</td>\n",
       "      <td>COME AWAY WITH ME</td>\n",
       "      <td>2002</td>\n",
       "    </tr>\n",
       "    <tr>\n",
       "      <th>OASIS</th>\n",
       "      <td>5</td>\n",
       "      <td>WHAT'S THE STORY MORNING GLORY</td>\n",
       "      <td>1995</td>\n",
       "    </tr>\n",
       "    <tr>\n",
       "      <th>ORIGINAL CAST RECORDING</th>\n",
       "      <td>52</td>\n",
       "      <td>THE SOUND OF MUSIC</td>\n",
       "      <td>1965</td>\n",
       "    </tr>\n",
       "    <tr>\n",
       "      <th>ORIGINAL SOUNDTRACK</th>\n",
       "      <td>47</td>\n",
       "      <td>GREASE</td>\n",
       "      <td>1987</td>\n",
       "    </tr>\n",
       "    <tr>\n",
       "      <th>PAUL SIMON</th>\n",
       "      <td>51</td>\n",
       "      <td>GRACELAND</td>\n",
       "      <td>1986</td>\n",
       "    </tr>\n",
       "    <tr>\n",
       "      <th>PHIL COLLINS</th>\n",
       "      <td>39</td>\n",
       "      <td>BUT SERIOUSLY</td>\n",
       "      <td>1989</td>\n",
       "    </tr>\n",
       "    <tr>\n",
       "      <th>PINK FLOYD</th>\n",
       "      <td>7</td>\n",
       "      <td>THE DARK SIDE OF THE MOON</td>\n",
       "      <td>1973</td>\n",
       "    </tr>\n",
       "    <tr>\n",
       "      <th>QUEEN</th>\n",
       "      <td>10</td>\n",
       "      <td>GREATEST HITS II</td>\n",
       "      <td>1991</td>\n",
       "    </tr>\n",
       "    <tr>\n",
       "      <th>REM</th>\n",
       "      <td>60</td>\n",
       "      <td>AUTOMATIC FOR THE PEOPLE</td>\n",
       "      <td>1992</td>\n",
       "    </tr>\n",
       "    <tr>\n",
       "      <th>ROBBIE WILLIAMS</th>\n",
       "      <td>56</td>\n",
       "      <td>SWING WHEN YOU'RE WINNING</td>\n",
       "      <td>2001</td>\n",
       "    </tr>\n",
       "    <tr>\n",
       "      <th>SCISSOR SISTERS</th>\n",
       "      <td>38</td>\n",
       "      <td>SCISSOR SISTERS</td>\n",
       "      <td>2004</td>\n",
       "    </tr>\n",
       "    <tr>\n",
       "      <th>SHANIA TWAIN</th>\n",
       "      <td>15</td>\n",
       "      <td>COME ON OVER</td>\n",
       "      <td>1997</td>\n",
       "    </tr>\n",
       "    <tr>\n",
       "      <th>SIMON &amp; GARFUNKEL</th>\n",
       "      <td>21</td>\n",
       "      <td>BRIDGE OVER TROUBLED WATER</td>\n",
       "      <td>1970</td>\n",
       "    </tr>\n",
       "    <tr>\n",
       "      <th>SIMPLY RED</th>\n",
       "      <td>14</td>\n",
       "      <td>STARS</td>\n",
       "      <td>1991</td>\n",
       "    </tr>\n",
       "    <tr>\n",
       "      <th>SNOW PATROL</th>\n",
       "      <td>58</td>\n",
       "      <td>EYES OPEN</td>\n",
       "      <td>2006</td>\n",
       "    </tr>\n",
       "    <tr>\n",
       "      <th>SPICE GIRLS</th>\n",
       "      <td>29</td>\n",
       "      <td>SPICE</td>\n",
       "      <td>1996</td>\n",
       "    </tr>\n",
       "    <tr>\n",
       "      <th>TAKE THAT</th>\n",
       "      <td>59</td>\n",
       "      <td>PROGRESS</td>\n",
       "      <td>2010</td>\n",
       "    </tr>\n",
       "    <tr>\n",
       "      <th>TRACY CHAPMAN</th>\n",
       "      <td>44</td>\n",
       "      <td>TRACY CHAPMAN</td>\n",
       "      <td>1988</td>\n",
       "    </tr>\n",
       "    <tr>\n",
       "      <th>TRAVIS</th>\n",
       "      <td>43</td>\n",
       "      <td>THE MAN WHO</td>\n",
       "      <td>1999</td>\n",
       "    </tr>\n",
       "    <tr>\n",
       "      <th>U2</th>\n",
       "      <td>36</td>\n",
       "      <td>THE JOSHUA TREE</td>\n",
       "      <td>1987</td>\n",
       "    </tr>\n",
       "    <tr>\n",
       "      <th>VERVE</th>\n",
       "      <td>18</td>\n",
       "      <td>URBAN HYMNS</td>\n",
       "      <td>1997</td>\n",
       "    </tr>\n",
       "  </tbody>\n",
       "</table>\n",
       "</div>"
      ],
      "text/plain": [
       "                          Pozycja                                 Tytył   Rok\n",
       "Artysta                                                                      \n",
       "ABBA                           46                         GREATEST HITS  1992\n",
       "ADELE                          27                                    25  2015\n",
       "ALANIS MORISSETTE              41                    JAGGED LITTLE PILL  1995\n",
       "AMY WINEHOUSE                  13                         BACK TO BLACK  2006\n",
       "BEATLES                        20  SGT PEPPER'S LONELY HEARTS CLUB BAND  2000\n",
       "BOB MARLEY & THE WAILERS       16                                LEGEND  1984\n",
       "COLDPLAY                       45                                   X&Y  2005\n",
       "CORRS                          28                       TALK ON CORNERS  1997\n",
       "DAVID GRAY                     26                          WHITE LADDER  1998\n",
       "DIDO                           32                              NO ANGEL  2003\n",
       "DIRE STRAITS                    8                      BROTHERS IN ARMS  1985\n",
       "ED SHEERAN                     49                                     X  2014\n",
       "EMINEM                         55               THE MARSHALL MATHERS LP  2000\n",
       "FLEETWOOD MAC                  54                    TANGO IN THE NIGHT  1987\n",
       "GEORGE MICHAEL                 53      LADIES & GENTLEMEN - THE BEST OF  1998\n",
       "JAMES BLUNT                    17                        BACK TO BEDLAM  2004\n",
       "JEFF WAYNE                     37                 THE WAR OF THE WORLDS  1978\n",
       "KEANE                          35                       HOPES AND FEARS  2004\n",
       "KINGS OF LEON                  33                     ONLY BY THE NIGHT  2008\n",
       "LADY GAGA                      30                              THE FAME  2008\n",
       "LEONA LEWIS                    23                                SPIRIT  2007\n",
       "MADONNA                        12             THE IMMACULATE COLLECTION  1990\n",
       "MEAT LOAF                      19                       BAT OUT OF HELL  1977\n",
       "MICHAEL BUBLE                  24                            CRAZY LOVE  2009\n",
       "MICHAEL JACKSON                 9                              THRILLER  1987\n",
       "MIKE OLDFIELD                  42                         TUBULAR BELLS  1973\n",
       "NORAH JONES                    50                     COME AWAY WITH ME  2002\n",
       "OASIS                           5        WHAT'S THE STORY MORNING GLORY  1995\n",
       "ORIGINAL CAST RECORDING        52                    THE SOUND OF MUSIC  1965\n",
       "ORIGINAL SOUNDTRACK            47                                GREASE  1987\n",
       "PAUL SIMON                     51                             GRACELAND  1986\n",
       "PHIL COLLINS                   39                         BUT SERIOUSLY  1989\n",
       "PINK FLOYD                      7             THE DARK SIDE OF THE MOON  1973\n",
       "QUEEN                          10                      GREATEST HITS II  1991\n",
       "REM                            60              AUTOMATIC FOR THE PEOPLE  1992\n",
       "ROBBIE WILLIAMS                56             SWING WHEN YOU'RE WINNING  2001\n",
       "SCISSOR SISTERS                38                       SCISSOR SISTERS  2004\n",
       "SHANIA TWAIN                   15                          COME ON OVER  1997\n",
       "SIMON & GARFUNKEL              21            BRIDGE OVER TROUBLED WATER  1970\n",
       "SIMPLY RED                     14                                 STARS  1991\n",
       "SNOW PATROL                    58                             EYES OPEN  2006\n",
       "SPICE GIRLS                    29                                 SPICE  1996\n",
       "TAKE THAT                      59                              PROGRESS  2010\n",
       "TRACY CHAPMAN                  44                         TRACY CHAPMAN  1988\n",
       "TRAVIS                         43                           THE MAN WHO  1999\n",
       "U2                             36                       THE JOSHUA TREE  1987\n",
       "VERVE                          18                           URBAN HYMNS  1997"
      ]
     },
     "execution_count": 98,
     "metadata": {},
     "output_type": "execute_result"
    }
   ],
   "source": [
    "albums.groupby('Artysta').max()"
   ]
  },
  {
   "cell_type": "markdown",
   "id": "8f424d90",
   "metadata": {},
   "source": [
    "Listę zapisz do pliku csv"
   ]
  },
  {
   "cell_type": "code",
   "execution_count": 114,
   "id": "314e93fe",
   "metadata": {},
   "outputs": [],
   "source": [
    "albums.to_csv('top_selling_albums.csv', index=False)"
   ]
  }
 ],
 "metadata": {
  "kernelspec": {
   "display_name": "Python 3 (ipykernel)",
   "language": "python",
   "name": "python3"
  },
  "language_info": {
   "codemirror_mode": {
    "name": "ipython",
    "version": 3
   },
   "file_extension": ".py",
   "mimetype": "text/x-python",
   "name": "python",
   "nbconvert_exporter": "python",
   "pygments_lexer": "ipython3",
   "version": "3.9.12"
  }
 },
 "nbformat": 4,
 "nbformat_minor": 5
}
