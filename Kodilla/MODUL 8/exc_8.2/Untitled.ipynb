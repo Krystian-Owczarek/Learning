{
 "cells": [
  {
   "cell_type": "code",
   "execution_count": 5,
   "id": "2ba212c3",
   "metadata": {},
   "outputs": [],
   "source": [
    "import pandas as pd\n",
    "import numpy as np"
   ]
  },
  {
   "cell_type": "code",
   "execution_count": 6,
   "id": "38197880",
   "metadata": {},
   "outputs": [],
   "source": [
    "df = pd.read_excel('myExcelFile.xlsx', sheet_name='my_data')"
   ]
  },
  {
   "cell_type": "code",
   "execution_count": 7,
   "id": "4b14c46a",
   "metadata": {},
   "outputs": [],
   "source": [
    "writer = pd.ExcelWriter('pandas_simple.xlsx', engine='xlsxwriter')"
   ]
  },
  {
   "cell_type": "code",
   "execution_count": 8,
   "id": "929ec788",
   "metadata": {},
   "outputs": [],
   "source": [
    "df.to_excel(writer, sheet_name='my_dfs')\n",
    "df.to_excel(writer, sheet_name='my_dfs', startcol=6, startrow=5, index=False)"
   ]
  },
  {
   "cell_type": "code",
   "execution_count": 9,
   "id": "f95bca0b",
   "metadata": {},
   "outputs": [],
   "source": [
    "writer.save()"
   ]
  },
  {
   "cell_type": "code",
   "execution_count": 13,
   "id": "9145b3a3",
   "metadata": {},
   "outputs": [],
   "source": [
    "riter = pd.ExcelWriter('many_sheets.xlsx', engine='xlsxwriter')\n",
    "\n",
    "df.to_excel(writer, sheet_name='my_df1')\n",
    "df.to_excel(writer, sheet_name='my_df2')\n",
    "\n",
    "writer.save()"
   ]
  },
  {
   "cell_type": "code",
   "execution_count": 14,
   "id": "735b1ac0",
   "metadata": {},
   "outputs": [],
   "source": [
    "writer = pd.ExcelWriter('add_chart.xlsx', engine='xlsxwriter')\n",
    "df.to_excel(writer, sheet_name='my_chart')"
   ]
  },
  {
   "cell_type": "code",
   "execution_count": 15,
   "id": "1d82fcfa",
   "metadata": {},
   "outputs": [],
   "source": [
    "workbook = writer.book\n",
    "worksheet = writer.sheets['my_chart']"
   ]
  },
  {
   "cell_type": "code",
   "execution_count": 16,
   "id": "14edfdb8",
   "metadata": {},
   "outputs": [],
   "source": [
    "chart = workbook.add_chart({'type':'line'})"
   ]
  },
  {
   "cell_type": "code",
   "execution_count": 17,
   "id": "bdd890b4",
   "metadata": {},
   "outputs": [],
   "source": [
    "def grab_series(df, sheet_name, colname, startcol=0, startrow=0):\n",
    "\n",
    "    col_index = df.columns.tolist().index(colname)\n",
    "    col_letter = chr(ord('@')+(col_index+2+startcol))\n",
    "    first_row = startrow + 2\n",
    "    last_row = startrow + 1 + len(df)\n",
    "    return f\"='{sheet_name}'!{col_letter}{first_row}:{col_letter}{last_row}\""
   ]
  },
  {
   "cell_type": "code",
   "execution_count": 18,
   "id": "43a8dda4",
   "metadata": {},
   "outputs": [
    {
     "ename": "ValueError",
     "evalue": "'B' is not in list",
     "output_type": "error",
     "traceback": [
      "\u001b[1;31m---------------------------------------------------------------------------\u001b[0m",
      "\u001b[1;31mValueError\u001b[0m                                Traceback (most recent call last)",
      "Input \u001b[1;32mIn [18]\u001b[0m, in \u001b[0;36m<cell line: 1>\u001b[1;34m()\u001b[0m\n\u001b[1;32m----> 1\u001b[0m chart\u001b[38;5;241m.\u001b[39madd_series({\u001b[38;5;124m'\u001b[39m\u001b[38;5;124mvalues\u001b[39m\u001b[38;5;124m'\u001b[39m:\u001b[43mgrab_series\u001b[49m\u001b[43m(\u001b[49m\u001b[43mdf\u001b[49m\u001b[43m,\u001b[49m\u001b[38;5;124;43m'\u001b[39;49m\u001b[38;5;124;43mmy_chart\u001b[39;49m\u001b[38;5;124;43m'\u001b[39;49m\u001b[43m,\u001b[49m\u001b[38;5;124;43m'\u001b[39;49m\u001b[38;5;124;43mB\u001b[39;49m\u001b[38;5;124;43m'\u001b[39;49m\u001b[43m)\u001b[49m})\n",
      "Input \u001b[1;32mIn [17]\u001b[0m, in \u001b[0;36mgrab_series\u001b[1;34m(df, sheet_name, colname, startcol, startrow)\u001b[0m\n\u001b[0;32m      1\u001b[0m \u001b[38;5;28;01mdef\u001b[39;00m \u001b[38;5;21mgrab_series\u001b[39m(df, sheet_name, colname, startcol\u001b[38;5;241m=\u001b[39m\u001b[38;5;241m0\u001b[39m, startrow\u001b[38;5;241m=\u001b[39m\u001b[38;5;241m0\u001b[39m):\n\u001b[1;32m----> 3\u001b[0m     col_index \u001b[38;5;241m=\u001b[39m \u001b[43mdf\u001b[49m\u001b[38;5;241;43m.\u001b[39;49m\u001b[43mcolumns\u001b[49m\u001b[38;5;241;43m.\u001b[39;49m\u001b[43mtolist\u001b[49m\u001b[43m(\u001b[49m\u001b[43m)\u001b[49m\u001b[38;5;241;43m.\u001b[39;49m\u001b[43mindex\u001b[49m\u001b[43m(\u001b[49m\u001b[43mcolname\u001b[49m\u001b[43m)\u001b[49m\n\u001b[0;32m      4\u001b[0m     col_letter \u001b[38;5;241m=\u001b[39m \u001b[38;5;28mchr\u001b[39m(\u001b[38;5;28mord\u001b[39m(\u001b[38;5;124m'\u001b[39m\u001b[38;5;124m@\u001b[39m\u001b[38;5;124m'\u001b[39m)\u001b[38;5;241m+\u001b[39m(col_index\u001b[38;5;241m+\u001b[39m\u001b[38;5;241m2\u001b[39m\u001b[38;5;241m+\u001b[39mstartcol))\n\u001b[0;32m      5\u001b[0m     first_row \u001b[38;5;241m=\u001b[39m startrow \u001b[38;5;241m+\u001b[39m \u001b[38;5;241m2\u001b[39m\n",
      "\u001b[1;31mValueError\u001b[0m: 'B' is not in list"
     ]
    }
   ],
   "source": [
    "chart.add_series({'values':grab_series(df,'my_chart','B')})"
   ]
  },
  {
   "cell_type": "code",
   "execution_count": null,
   "id": "8fc98381",
   "metadata": {},
   "outputs": [],
   "source": []
  }
 ],
 "metadata": {
  "kernelspec": {
   "display_name": "Python 3 (ipykernel)",
   "language": "python",
   "name": "python3"
  },
  "language_info": {
   "codemirror_mode": {
    "name": "ipython",
    "version": 3
   },
   "file_extension": ".py",
   "mimetype": "text/x-python",
   "name": "python",
   "nbconvert_exporter": "python",
   "pygments_lexer": "ipython3",
   "version": "3.9.12"
  }
 },
 "nbformat": 4,
 "nbformat_minor": 5
}
