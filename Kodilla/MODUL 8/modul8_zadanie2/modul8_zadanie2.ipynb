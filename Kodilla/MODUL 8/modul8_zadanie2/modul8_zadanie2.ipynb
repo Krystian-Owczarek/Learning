{
 "cells": [
  {
   "cell_type": "code",
   "execution_count": 1,
   "id": "6466cab2",
   "metadata": {},
   "outputs": [],
   "source": [
    "import numpy as np\n",
    "import pandas as pd\n",
    "import matplotlib.pyplot as plt\n",
    "import math\n",
    "\n",
    "crimes = pd.read_csv('fatal-police-shootings-data.csv')"
   ]
  },
  {
   "cell_type": "code",
   "execution_count": null,
   "id": "0d88ce52",
   "metadata": {
    "scrolled": true
   },
   "outputs": [],
   "source": [
    "crimes"
   ]
  },
  {
   "cell_type": "code",
   "execution_count": 2,
   "id": "4fc81541",
   "metadata": {
    "scrolled": true
   },
   "outputs": [
    {
     "name": "stdout",
     "output_type": "stream",
     "text": [
      "id                           0\n",
      "name                         0\n",
      "date                         0\n",
      "manner_of_death              0\n",
      "armed                      227\n",
      "age                        235\n",
      "gender                       2\n",
      "race                       521\n",
      "city                         0\n",
      "state                        0\n",
      "signs_of_mental_illness      0\n",
      "threat_level                 0\n",
      "flee                       249\n",
      "body_camera                  0\n",
      "dtype: int64\n"
     ]
    }
   ],
   "source": [
    "print(crimes.isnull().sum())\n",
    "crimes['armed'].fillna('U', inplace=True)\n",
    "crimes['gender'].fillna('U', inplace=True)\n",
    "crimes['race'].fillna('U', inplace=True)\n",
    "crimes['flee'].fillna('U', inplace=True)"
   ]
  },
  {
   "cell_type": "code",
   "execution_count": 3,
   "id": "17b5cc42",
   "metadata": {
    "scrolled": true
   },
   "outputs": [],
   "source": [
    "#Data cleaning\n",
    "crimes['date'] = pd.to_datetime(crimes['date'], format='%Y-%m-%d') #changing str to date type\n",
    "crimes['age'] = crimes['age'].fillna(0).astype(int) #chaning str to int type\n",
    "\n",
    "#removing ID column, in order to remove missing indexes\n",
    "#crimes.reset_index()\n",
    "#crimes.drop(columns=['id'], inplace=True)"
   ]
  },
  {
   "cell_type": "markdown",
   "id": "962f00cc",
   "metadata": {},
   "source": [
    "Przekształć tabelę w taki sposób, aby wskazywała zestawienie jednocześnie liczby ofiar interwencji według rasy (‘race’) oraz tego, czy wykazywały one oznaki choroby psychicznej (‘signs_of_mental_illness’)."
   ]
  },
  {
   "cell_type": "code",
   "execution_count": null,
   "id": "5a440947",
   "metadata": {},
   "outputs": [],
   "source": [
    "race_ilness = crimes.pivot_table(values='name', index='race', columns='signs_of_mental_illness', aggfunc=[len],fill_value=0, margins=True)\n",
    "race_ilness"
   ]
  },
  {
   "cell_type": "markdown",
   "id": "6a13cfa5",
   "metadata": {},
   "source": [
    "Za pomocą Map, Applymap lub Apply dodaj do tego zestawienia kolumnę wskazującą jaki odsetek ofiar interwencji wykazywało oznaki choroby psychicznej dla każdej z ras. Odpowiedz, która z nich charakteryzuje się największym odsetkiem znamion choroby psychicznej podczas interwencji."
   ]
  },
  {
   "cell_type": "code",
   "execution_count": null,
   "id": "d656038c",
   "metadata": {},
   "outputs": [],
   "source": [
    "def percentage(row):\n",
    "\n",
    "    number = round((row['len'][True]/(row['len']['All']/100)), 2)\n",
    "    return number\n",
    "\n",
    "race_ilness['percentage'] = race_ilness.apply(lambda row: percentage(row),axis=1)\n",
    "race_ilness"
   ]
  },
  {
   "cell_type": "markdown",
   "id": "2de34319",
   "metadata": {},
   "source": [
    "Największy odsetek znamion choroby wykazuje rasa 'Biała'."
   ]
  },
  {
   "cell_type": "markdown",
   "id": "fd5d2b47",
   "metadata": {},
   "source": [
    "Dodaj kolumnę oznaczającą dzień tygodnia, w którym doszło do interwencji. Zlicz interwencje według odpowiedniego dnia tygodnia. Następnie stwórz wykres kolumnowy, tak aby dni tygodnia były uszeregowane od poniedziałku do niedzieli."
   ]
  },
  {
   "cell_type": "code",
   "execution_count": null,
   "id": "68cc2390",
   "metadata": {},
   "outputs": [],
   "source": [
    "crimes['week_day'] = crimes['date'].dt.day_name()\n",
    "days = [ 'Monday', 'Tuesday', 'Wednesday', 'Thursday', 'Friday', 'Saturday', 'Sunday']\n",
    "\n",
    "day_of_intervention = crimes.groupby('week_day')['date'].count().reindex(days)\n",
    "\n",
    "day_of_intervention\n",
    "\n",
    "day_of_intervention.plot.bar(x='week_day', y=None)"
   ]
  },
  {
   "cell_type": "markdown",
   "id": "435a76c5",
   "metadata": {},
   "source": [
    "Wczytaj do projektu dane dotyczące populacji w poszczególnych stanach USA oraz dane dotyczące skrótów poszczególnych stanów. Połącz te bazy danych w taki sposób, aby móc policzyć do ilu incydentów w bazie dotyczącej śmiertelnych interwencji doszło w przeliczeniu na 1000 mieszkańców każdego ze stanów."
   ]
  },
  {
   "cell_type": "code",
   "execution_count": null,
   "id": "3783a460",
   "metadata": {},
   "outputs": [],
   "source": [
    "data_1 = pd.read_html('https://simple.wikipedia.org/wiki/List_of_U.S._states_by_population', header=0)\n",
    "data_1[0]\n",
    "states = data_1[0]\n",
    "\n",
    "states_population = pd.DataFrame({'State':states['State'], 'Population':states['Population estimate, July 1, 2019[2]']})\n",
    "states_population.drop(states_population.index[[56,57,58,59]], inplace=True)\n",
    "states_population"
   ]
  },
  {
   "cell_type": "code",
   "execution_count": null,
   "id": "ead289cd",
   "metadata": {
    "scrolled": false
   },
   "outputs": [],
   "source": [
    "data_2 = pd.read_html('https://en.wikipedia.org/wiki/List_of_U.S._state_and_territory_abbreviations', header=0)\n",
    "data_2[0]\n",
    "states_2 = data_2[0]\n",
    "\n",
    "states_2.columns = range(states_2.columns.size)\n",
    "\n",
    "states_acronimes = pd.DataFrame({'State':states_2[0], 'Acronime':states_2[5]})\n",
    "states_acronimes.dropna(axis='index', inplace=True)\n",
    "states_acronimes"
   ]
  },
  {
   "cell_type": "code",
   "execution_count": null,
   "id": "b908a382",
   "metadata": {
    "scrolled": false
   },
   "outputs": [],
   "source": [
    "states_ac_pop = pd.merge(states_population,states_acronimes,how='inner',on='State')\n",
    "states_ac_pop"
   ]
  },
  {
   "cell_type": "code",
   "execution_count": null,
   "id": "bb90f526",
   "metadata": {},
   "outputs": [],
   "source": [
    "state_3 = crimes.groupby('state')['name'].count()\n",
    "state_of_interventions = state_3.to_frame(name='#Interventions')\n",
    "state_of_interventions.reset_index(inplace=True)\n",
    "state_of_interventions.rename(columns={'state':'Acronime'}, inplace=True)\n",
    "state_of_interventions"
   ]
  },
  {
   "cell_type": "code",
   "execution_count": null,
   "id": "ad022712",
   "metadata": {
    "scrolled": false
   },
   "outputs": [],
   "source": [
    "final_table = pd.merge(state_of_interventions, states_ac_pop, how='inner',on='Acronime')\n",
    "final_table"
   ]
  },
  {
   "cell_type": "code",
   "execution_count": null,
   "id": "799bc44f",
   "metadata": {},
   "outputs": [],
   "source": [
    "def percentage(row):\n",
    "\n",
    "    number = row['Population']/1000\n",
    "    final = round((row['#Interventions']/number), 3)\n",
    "    return final\n",
    "\n",
    "final_table['Percentage'] = final_table.apply(lambda row: percentage(row),axis=1)"
   ]
  },
  {
   "cell_type": "code",
   "execution_count": null,
   "id": "319e76e0",
   "metadata": {},
   "outputs": [],
   "source": [
    "final_table"
   ]
  }
 ],
 "metadata": {
  "kernelspec": {
   "display_name": "Python 3 (ipykernel)",
   "language": "python",
   "name": "python3"
  },
  "language_info": {
   "codemirror_mode": {
    "name": "ipython",
    "version": 3
   },
   "file_extension": ".py",
   "mimetype": "text/x-python",
   "name": "python",
   "nbconvert_exporter": "python",
   "pygments_lexer": "ipython3",
   "version": "3.9.12"
  }
 },
 "nbformat": 4,
 "nbformat_minor": 5
}
