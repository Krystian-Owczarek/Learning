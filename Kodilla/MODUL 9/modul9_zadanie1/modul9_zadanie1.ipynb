{
 "cells": [
  {
   "cell_type": "code",
   "execution_count": 2,
   "id": "79802026",
   "metadata": {},
   "outputs": [],
   "source": [
    "import pandas as pd\n",
    "import numpy as np\n",
    "import matplotlib.pyplot as plt"
   ]
  },
  {
   "cell_type": "code",
   "execution_count": 3,
   "id": "01d1b7d6",
   "metadata": {},
   "outputs": [],
   "source": [
    "movies = pd.read_csv('tmdb_movies.csv')\n",
    "genres = pd.read_csv('tmdb_genres.csv')"
   ]
  },
  {
   "cell_type": "code",
   "execution_count": 4,
   "id": "9230eaff",
   "metadata": {
    "scrolled": false
   },
   "outputs": [],
   "source": [
    "#Drop unnecessary columns\n",
    "movies.drop(columns ='Unnamed: 0', inplace=True)\n",
    "\n",
    "#Clearing date column\n",
    "movies['release_date'] = pd.to_datetime(movies['release_date'], format='%Y-%m-%d')\n",
    "\n",
    "#Clear NaN\n",
    "movies['homepage'].fillna('U', inplace=True)\n",
    "movies['overview'].fillna('U', inplace=True)\n",
    "movies['runtime'].fillna(0, inplace=True)\n",
    "movies['tagline'].fillna('U', inplace=True)\n",
    "movies['genre_id'].fillna(0, inplace=True)\n",
    "\n",
    "#Convert to correct datatype\n",
    "movies['runtime'] = movies['runtime'].astype('int')\n",
    "movies['genre_id'] = movies['genre_id'].astype('int')\n"
   ]
  },
  {
   "cell_type": "code",
   "execution_count": 5,
   "id": "db289b45",
   "metadata": {},
   "outputs": [],
   "source": [
    "#Rename matching columns\n",
    "genres.rename(columns={'Unnamed: 0': 'genre_id'}, inplace=True)\n",
    "\n",
    "#Clear NaN\n",
    "genres['genre_id'].fillna(0, inplace=True)\n",
    "genres['genres'].fillna('U', inplace=True)\n",
    "\n",
    "#Convert to correct datatype\n",
    "genres['genre_id'] = genres['genre_id'].astype('int')"
   ]
  },
  {
   "cell_type": "markdown",
   "id": "e5d9dbb1",
   "metadata": {},
   "source": [
    "Zwróć listę 10 najwyżej ocenianych filmów (vote_average), których liczba głosów (vote_count) jest większa od 3. kwartyla rozkładu liczby głosów."
   ]
  },
  {
   "cell_type": "code",
   "execution_count": null,
   "id": "3e882048",
   "metadata": {
    "scrolled": false
   },
   "outputs": [],
   "source": [
    "third_quantile = movies['vote_count'].quantile(0.75)\n",
    "third_quantile\n",
    "df = movies[movies['vote_count'] > third_quantile]\n",
    "df.sort_values('vote_average', ascending=False, inplace=True)\n",
    "df.iloc[:10]"
   ]
  },
  {
   "cell_type": "markdown",
   "id": "c5ef3ada",
   "metadata": {},
   "source": [
    "Pogrupuj tabelę w taki sposób, aby otrzymać średni przychód (revenue) oraz średni budżet (budget) w danym roku dla filmów opublikowanych od 2010 (włącznie) do 2016 roku (włącznie). Następnie na tej podstawie stwórz wykres, w którym średnie przychody są wykresem kolumnowym, a średni budżet wykresem liniowym na tych samych osiach. Sformatuj odpowiednio oś X oraz oś Y. Dodaj tytuł wykresu, oraz legendę, która znajduje się w prawym górnym rogu płótna, lecz poza obszarem osi."
   ]
  },
  {
   "cell_type": "code",
   "execution_count": 32,
   "id": "26a9cdc7",
   "metadata": {
    "scrolled": false
   },
   "outputs": [
    {
     "data": {
      "image/png": "[encoded data removed]",
      "text/plain": [
       "<Figure size 432x288 with 1 Axes>"
      ]
     },
     "metadata": {
      "needs_background": "light"
     },
     "output_type": "display_data"
    }
   ],
   "source": [
    "pd.options.display.float_format = '{:.2f}'.format\n",
    "\n",
    "df_2 = movies[(movies['release_date'] > '2009-12-31 00:00:00') & (movies['release_date'] < '2017-01-01 00:00:00')]\n",
    "df_2.sort_values('release_date', ascending=False)\n",
    "\n",
    "df3 = df_2.groupby(df_2['release_date'].map(lambda x: x.year)).mean()\n",
    "\n",
    "x = df3.index\n",
    "y = df3['budget']\n",
    "y2 = df3['revenue']\n",
    "\n",
    "fig = plt.figure()\n",
    "axes = fig.add_axes([0,0,1,1])\n",
    "axes.plot(x, y, color='red', label='budget')\n",
    "axes.bar(x, y2, color='blue', label='revenue')\n",
    "plt.title(\"Średni przychód i budżet filmu w latach 2010-2016\")\n",
    "\n",
    "axes.legend(loc=(1.05,0.9))\n",
    "\n",
    "plt.show()\n",
    "\n"
   ]
  },
  {
   "cell_type": "markdown",
   "id": "2762a8f4",
   "metadata": {},
   "source": [
    "Baza filmów zawiera kolumnę z id gatunku (genre_id). Na tej podstawie połącz ze sobą bazę filmów z bazą gatunków, tak aby w bazie filmów można było odczytać nazwę gatunku filmu."
   ]
  },
  {
   "cell_type": "code",
   "execution_count": 196,
   "id": "a3b4f3c1",
   "metadata": {},
   "outputs": [],
   "source": [
    "movies_2 = movies.merge(genres,on='genre_id',how='inner')"
   ]
  },
  {
   "cell_type": "markdown",
   "id": "4fe642b0",
   "metadata": {},
   "source": [
    "Jaki gatunek filmu z bazy pojawia się w niej najczęściej? Ile filmów tego gatunku znajduje się w bazie?"
   ]
  },
  {
   "cell_type": "code",
   "execution_count": 197,
   "id": "58b150c1",
   "metadata": {},
   "outputs": [
    {
     "data": {
      "text/plain": [
       "Drama              1207\n",
       "Comedy             1042\n",
       "Action              754\n",
       "Adventure           339\n",
       "Horror              300\n",
       "Crime               195\n",
       "Thriller            194\n",
       "Animation           123\n",
       "Fantasy             117\n",
       "Romance             106\n",
       "Science Fiction      96\n",
       "Documentary          89\n",
       "Family               56\n",
       "Mystery              41\n",
       "Music                34\n",
       "U                    28\n",
       "Western              27\n",
       "History              25\n",
       "War                  24\n",
       "TV Movie              4\n",
       "Foreign               2\n",
       "Name: genres, dtype: int64"
      ]
     },
     "execution_count": 197,
     "metadata": {},
     "output_type": "execute_result"
    }
   ],
   "source": [
    "movies_2['genres'].value_counts()"
   ]
  },
  {
   "cell_type": "markdown",
   "id": "f13c2181",
   "metadata": {},
   "source": [
    "Filmy, którego gatunku trwają średnio najdłużej (runtime)?"
   ]
  },
  {
   "cell_type": "code",
   "execution_count": 198,
   "id": "63071d3a",
   "metadata": {},
   "outputs": [
    {
     "data": {
      "text/plain": [
       "genres\n",
       "History           133.96\n",
       "War               126.12\n",
       "Western           117.93\n",
       "Drama             115.43\n",
       "Adventure         113.06\n",
       "Crime             112.14\n",
       "TV Movie          110.50\n",
       "Action            109.06\n",
       "Science Fiction   109.03\n",
       "Romance           107.09\n",
       "Fantasy           106.49\n",
       "Thriller          105.69\n",
       "Music             102.85\n",
       "Mystery           100.61\n",
       "Comedy            100.46\n",
       "Horror             94.75\n",
       "Documentary        92.46\n",
       "Family             89.80\n",
       "Animation          89.55\n",
       "Foreign            83.00\n",
       "U                  50.39\n",
       "Name: runtime, dtype: float64"
      ]
     },
     "execution_count": 198,
     "metadata": {},
     "output_type": "execute_result"
    }
   ],
   "source": [
    "runtime = movies_2.groupby('genres').mean()\n",
    "runtime['runtime'].sort_values(ascending=False)"
   ]
  },
  {
   "cell_type": "markdown",
   "id": "334413b5",
   "metadata": {},
   "source": [
    "Stwórz histogram czasu trwania filmów z gatunku, który cechuje się największym średnim czasem trwania."
   ]
  },
  {
   "cell_type": "code",
   "execution_count": 199,
   "id": "b16587fe",
   "metadata": {},
   "outputs": [
    {
     "data": {
      "text/plain": [
       "<AxesSubplot:xlabel='release_date'>"
      ]
     },
     "execution_count": 199,
     "metadata": {},
     "output_type": "execute_result"
    },
    {
     "data": {
      "image/png": "[encoded data removed]",
      "text/plain": [
       "<Figure size 432x288 with 1 Axes>"
      ]
     },
     "metadata": {
      "needs_background": "light"
     },
     "output_type": "display_data"
    }
   ],
   "source": [
    "history = movies[movies_2['genres'] == 'History']\n",
    "history.plot.line(x='release_date', y='runtime')"
   ]
  },
  {
   "cell_type": "code",
   "execution_count": null,
   "id": "101b56f2",
   "metadata": {},
   "outputs": [],
   "source": []
  }
 ],
 "metadata": {
  "kernelspec": {
   "display_name": "Python 3 (ipykernel)",
   "language": "python",
   "name": "python3"
  },
  "language_info": {
   "codemirror_mode": {
    "name": "ipython",
    "version": 3
   },
   "file_extension": ".py",
   "mimetype": "text/x-python",
   "name": "python",
   "nbconvert_exporter": "python",
   "pygments_lexer": "ipython3",
   "version": "3.9.12"
  }
 },
 "nbformat": 4,
 "nbformat_minor": 5
}
