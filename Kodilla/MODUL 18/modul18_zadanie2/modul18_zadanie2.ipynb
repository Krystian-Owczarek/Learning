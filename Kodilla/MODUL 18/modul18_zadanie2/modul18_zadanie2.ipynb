{
 "cells": [
  {
   "cell_type": "markdown",
   "id": "fa59e480",
   "metadata": {},
   "source": [
    "Pierwszym krokiem będzie zaimplementowanie sieci neuronowej na używanym wcześniej zestawie Fashion-Mnist tak, aby uzyskać wynik na danych testowych rzędu accuracy > 0.94 (albo jak najbardziej zbliżony), używając poniższego podziału:\n",
    "\n",
    "X_train, X_test, y_train, y_test = \\\n",
    "    train_test_split(images, labels, test_size=0.1, random_state=10, stratify=labels)\n",
    "    \n",
    "Drugim krokiem będzie zapisanie i dostarczenie modelu oraz napisanie interfejsu, który przyjmuje wartość wejściową oraz zwraca wartość przewidzianą przez nasz model wraz z wyrysowanym obrazem wejściowym (aby można było zweryfikować wizualnie, czy działa).\n",
    "\n",
    "W kursie nie mówiliśmy jak tego dokonać, choć zapisywanie modeli jest opisane na stronie TensorFlow. Mentorzy z chęcią pomogą, lecz zachęcamy do odkrycia, jak to zrobić samemu.\n",
    "\n",
    "Trzecim krokiem będzie podbicie naszego wyniku do około 0.97 poprzez użycie technik augumentacji, czyli tworzenia nowy danych na bazie danych już istniejących. Jest to przydatna technika, o którą pytanie pojawia się podczas rozmów o pracę :)\n",
    "\n",
    "Będzie to relatywnie trudne, gdyż posiadamy mało danych treningowych, więc należy zrobić mały \"research\" w poszukiwaniu informacji, jak takie dane sobie wygenerować.\n",
    "\n",
    "Polecamy szczególnie:\n",
    "\n",
    "Albumentation library\n",
    "Open CV library\n",
    "Ten kurs ma pokazywać, jak w rzeczywistości pracuje się z TensorFlow, a realia są takie, że bardzo często większość pracy to odkrywanie nowych rzeczy. Dlatego podajemy tylko linki do bibliotek – jak należy ich użyć, trzeba wywnioskować samemu :)"
   ]
  },
  {
   "cell_type": "markdown",
   "id": "3f4ceb95",
   "metadata": {},
   "source": [
    "# Import Bibliotek"
   ]
  },
  {
   "cell_type": "code",
   "execution_count": 65,
   "id": "4471e09f",
   "metadata": {},
   "outputs": [],
   "source": [
    "# Podstawy\n",
    "\n",
    "import pandas as pd\n",
    "import numpy as np"
   ]
  },
  {
   "cell_type": "code",
   "execution_count": 66,
   "id": "86a30c9a",
   "metadata": {},
   "outputs": [],
   "source": [
    "# Wizualizacja\n",
    "\n",
    "import matplotlib.pyplot as plt\n",
    "import seaborn as sns"
   ]
  },
  {
   "cell_type": "code",
   "execution_count": 67,
   "id": "de4b89bc",
   "metadata": {},
   "outputs": [],
   "source": [
    "# Import danych\n",
    "\n",
    "from keras.datasets import fashion_mnist"
   ]
  },
  {
   "cell_type": "code",
   "execution_count": 68,
   "id": "c41c97c8",
   "metadata": {},
   "outputs": [],
   "source": [
    "# Sieci neuronowe\n",
    "\n",
    "import tensorflow as tf\n",
    "from sklearn.model_selection import train_test_split\n",
    "import os"
   ]
  },
  {
   "cell_type": "code",
   "execution_count": 69,
   "id": "5a848ea8",
   "metadata": {},
   "outputs": [],
   "source": [
    "# Metryki\n",
    "\n",
    "from sklearn.metrics import f1_score, confusion_matrix"
   ]
  },
  {
   "cell_type": "code",
   "execution_count": 70,
   "id": "e2ae18f4",
   "metadata": {},
   "outputs": [],
   "source": [
    "# Albumentacja\n",
    "import albumentations as A\n",
    "import cv2"
   ]
  },
  {
   "cell_type": "markdown",
   "id": "e7bd3a63",
   "metadata": {},
   "source": [
    "# Import i obróbka Danych"
   ]
  },
  {
   "cell_type": "code",
   "execution_count": 71,
   "id": "3144d2c6",
   "metadata": {},
   "outputs": [],
   "source": [
    "train, test = fashion_mnist.load_data()\n",
    "images, labels = train\n",
    "\n",
    "images = images/255.0\n",
    "\n",
    "labels = labels.astype(np.int32)"
   ]
  },
  {
   "cell_type": "code",
   "execution_count": 72,
   "id": "d6f7fc3d",
   "metadata": {},
   "outputs": [],
   "source": [
    "X_train, X_test, y_train, y_test = train_test_split(images, labels, test_size=0.1, random_state=10, stratify=labels)"
   ]
  },
  {
   "cell_type": "code",
   "execution_count": 73,
   "id": "16e20682",
   "metadata": {},
   "outputs": [],
   "source": [
    "train_ds = tf.data.Dataset.from_tensor_slices((X_train, y_train))"
   ]
  },
  {
   "cell_type": "code",
   "execution_count": 74,
   "id": "340586ff",
   "metadata": {},
   "outputs": [],
   "source": [
    "train_ds = train_ds.shuffle(1000).batch(32)"
   ]
  },
  {
   "cell_type": "markdown",
   "id": "35d7a270",
   "metadata": {},
   "source": [
    "Klasy oraz ich nazwy\n",
    "\n",
    "Label\tDescription\n",
    "\n",
    "0\tT-shirt/top\n",
    "\n",
    "1\tTrouser\n",
    "\n",
    "2\tPullover\n",
    "\n",
    "3\tDress\n",
    "\n",
    "4\tCoat\n",
    "\n",
    "5\tSandal\n",
    "\n",
    "6\tShirt\n",
    "\n",
    "7\tSneaker\n",
    "\n",
    "8\tBag\n",
    "\n",
    "9\tAnkle boot"
   ]
  },
  {
   "cell_type": "markdown",
   "id": "9d209570",
   "metadata": {},
   "source": [
    "# Tworzenie modelu"
   ]
  },
  {
   "cell_type": "code",
   "execution_count": 75,
   "id": "992a469a",
   "metadata": {},
   "outputs": [],
   "source": [
    "def create_model():\n",
    "    model = tf.keras.Sequential([\n",
    "        tf.keras.layers.Flatten(),\n",
    "        tf.keras.layers.Dense(16, activation='relu', name=\"input_layer\"),\n",
    "        tf.keras.layers.Dense(64, activation='relu', name=\"hidden_layer_1\"),\n",
    "        tf.keras.layers.Dense(32, activation='relu', name=\"hidden_layer_2\"),\n",
    "        tf.keras.layers.Dense(10, activation='softmax', name=\"output_layer\")\n",
    "    ])\n",
    "\n",
    "    model.compile(optimizer='adam',\n",
    "                  loss='sparse_categorical_crossentropy',\n",
    "                  metrics=['accuracy'])\n",
    "\n",
    "    return model"
   ]
  },
  {
   "cell_type": "markdown",
   "id": "e716e8f7",
   "metadata": {},
   "source": [
    "Zapisujemy wagi za każdym razem kiedy model oszacuje lepsze od poprzednich."
   ]
  },
  {
   "cell_type": "code",
   "execution_count": 76,
   "id": "2324f048",
   "metadata": {},
   "outputs": [],
   "source": [
    "checkpoint_path = \"training_2/cp-{epoch:04d}.ckpt\"\n",
    "checkpoint_dir = os.path.dirname(checkpoint_path)\n",
    "\n",
    "cp_callback = tf.keras.callbacks.ModelCheckpoint(filepath=checkpoint_path,\n",
    "                                                 save_weights_only=True,\n",
    "                                                 verbose=1,\n",
    "                                                 save_best_only=True,\n",
    "                                                 monitor='val_accuracy')"
   ]
  },
  {
   "cell_type": "markdown",
   "id": "ee8fa502",
   "metadata": {},
   "source": [
    "# Szkolenie modelu"
   ]
  },
  {
   "cell_type": "code",
   "execution_count": 77,
   "id": "f9031dfa",
   "metadata": {
    "scrolled": true
   },
   "outputs": [
    {
     "name": "stdout",
     "output_type": "stream",
     "text": [
      "Epoch 1/10\n",
      "1656/1688 [============================>.] - ETA: 0s - loss: 0.6005 - accuracy: 0.7882WARNING:tensorflow:Can save best model only with val_accuracy available, skipping.\n",
      "1688/1688 [==============================] - 3s 1ms/step - loss: 0.5978 - accuracy: 0.7892\n",
      "Epoch 2/10\n",
      "1662/1688 [============================>.] - ETA: 0s - loss: 0.4210 - accuracy: 0.8496WARNING:tensorflow:Can save best model only with val_accuracy available, skipping.\n",
      "1688/1688 [==============================] - 3s 2ms/step - loss: 0.4212 - accuracy: 0.8495\n",
      "Epoch 3/10\n",
      "1666/1688 [============================>.] - ETA: 0s - loss: 0.3851 - accuracy: 0.8600WARNING:tensorflow:Can save best model only with val_accuracy available, skipping.\n",
      "1688/1688 [==============================] - 2s 1ms/step - loss: 0.3850 - accuracy: 0.8601\n",
      "Epoch 4/10\n",
      "1679/1688 [============================>.] - ETA: 0s - loss: 0.3656 - accuracy: 0.8671WARNING:tensorflow:Can save best model only with val_accuracy available, skipping.\n",
      "1688/1688 [==============================] - 2s 1ms/step - loss: 0.3654 - accuracy: 0.8673\n",
      "Epoch 5/10\n",
      "1686/1688 [============================>.] - ETA: 0s - loss: 0.3507 - accuracy: 0.8717WARNING:tensorflow:Can save best model only with val_accuracy available, skipping.\n",
      "1688/1688 [==============================] - 2s 1ms/step - loss: 0.3506 - accuracy: 0.8717\n",
      "Epoch 6/10\n",
      "1674/1688 [============================>.] - ETA: 0s - loss: 0.3366 - accuracy: 0.8763WARNING:tensorflow:Can save best model only with val_accuracy available, skipping.\n",
      "1688/1688 [==============================] - 2s 1ms/step - loss: 0.3364 - accuracy: 0.8764\n",
      "Epoch 7/10\n",
      "1679/1688 [============================>.] - ETA: 0s - loss: 0.3286 - accuracy: 0.8791WARNING:tensorflow:Can save best model only with val_accuracy available, skipping.\n",
      "1688/1688 [==============================] - 2s 1ms/step - loss: 0.3283 - accuracy: 0.8792\n",
      "Epoch 8/10\n",
      "1684/1688 [============================>.] - ETA: 0s - loss: 0.3192 - accuracy: 0.8814WARNING:tensorflow:Can save best model only with val_accuracy available, skipping.\n",
      "1688/1688 [==============================] - 2s 1ms/step - loss: 0.3191 - accuracy: 0.8815\n",
      "Epoch 9/10\n",
      "1680/1688 [============================>.] - ETA: 0s - loss: 0.3109 - accuracy: 0.8855WARNING:tensorflow:Can save best model only with val_accuracy available, skipping.\n",
      "1688/1688 [==============================] - 3s 2ms/step - loss: 0.3107 - accuracy: 0.8857\n",
      "Epoch 10/10\n",
      "1662/1688 [============================>.] - ETA: 0s - loss: 0.3063 - accuracy: 0.8865WARNING:tensorflow:Can save best model only with val_accuracy available, skipping.\n",
      "1688/1688 [==============================] - 2s 1ms/step - loss: 0.3061 - accuracy: 0.8866\n"
     ]
    }
   ],
   "source": [
    "model_fashion = create_model()\n",
    "\n",
    "stats = model_fashion.fit(train_ds, epochs=10, verbose=1, callbacks=[cp_callback])"
   ]
  },
  {
   "cell_type": "markdown",
   "id": "a5c4e6d9",
   "metadata": {},
   "source": [
    "Model widocznie zwolnił po trzeciej epoce. Podnosząc liczbę epok doszedłbym do wyniku accuracy na poziomie 0.94.\n",
    "\n",
    "Odpalę model jeszcze raz, żeby przeleciał ponownie. Powinienem uzyskać wyższy wynik."
   ]
  },
  {
   "cell_type": "code",
   "execution_count": 78,
   "id": "add819c0",
   "metadata": {
    "scrolled": true
   },
   "outputs": [
    {
     "name": "stdout",
     "output_type": "stream",
     "text": [
      "Epoch 1/10\n",
      "1678/1688 [============================>.] - ETA: 0s - loss: 0.2975 - accuracy: 0.8889WARNING:tensorflow:Can save best model only with val_accuracy available, skipping.\n",
      "1688/1688 [==============================] - 3s 2ms/step - loss: 0.2976 - accuracy: 0.8889\n",
      "Epoch 2/10\n",
      "1661/1688 [============================>.] - ETA: 0s - loss: 0.2962 - accuracy: 0.8891WARNING:tensorflow:Can save best model only with val_accuracy available, skipping.\n",
      "1688/1688 [==============================] - 2s 1ms/step - loss: 0.2961 - accuracy: 0.8892\n",
      "Epoch 3/10\n",
      "1656/1688 [============================>.] - ETA: 0s - loss: 0.2889 - accuracy: 0.8923WARNING:tensorflow:Can save best model only with val_accuracy available, skipping.\n",
      "1688/1688 [==============================] - 2s 1ms/step - loss: 0.2887 - accuracy: 0.8924\n",
      "Epoch 4/10\n",
      "1666/1688 [============================>.] - ETA: 0s - loss: 0.2833 - accuracy: 0.8932WARNING:tensorflow:Can save best model only with val_accuracy available, skipping.\n",
      "1688/1688 [==============================] - 2s 1ms/step - loss: 0.2836 - accuracy: 0.8934\n",
      "Epoch 5/10\n",
      "1671/1688 [============================>.] - ETA: 0s - loss: 0.2770 - accuracy: 0.8955WARNING:tensorflow:Can save best model only with val_accuracy available, skipping.\n",
      "1688/1688 [==============================] - 3s 2ms/step - loss: 0.2772 - accuracy: 0.8956\n",
      "Epoch 6/10\n",
      "1662/1688 [============================>.] - ETA: 0s - loss: 0.2733 - accuracy: 0.8970WARNING:tensorflow:Can save best model only with val_accuracy available, skipping.\n",
      "1688/1688 [==============================] - 3s 2ms/step - loss: 0.2736 - accuracy: 0.8971\n",
      "Epoch 7/10\n",
      "1662/1688 [============================>.] - ETA: 0s - loss: 0.2708 - accuracy: 0.8963WARNING:tensorflow:Can save best model only with val_accuracy available, skipping.\n",
      "1688/1688 [==============================] - 2s 1ms/step - loss: 0.2706 - accuracy: 0.8965\n",
      "Epoch 8/10\n",
      "1656/1688 [============================>.] - ETA: 0s - loss: 0.2674 - accuracy: 0.8992WARNING:tensorflow:Can save best model only with val_accuracy available, skipping.\n",
      "1688/1688 [==============================] - 2s 1ms/step - loss: 0.2675 - accuracy: 0.8992\n",
      "Epoch 9/10\n",
      "1679/1688 [============================>.] - ETA: 0s - loss: 0.2666 - accuracy: 0.8983WARNING:tensorflow:Can save best model only with val_accuracy available, skipping.\n",
      "1688/1688 [==============================] - 2s 1ms/step - loss: 0.2662 - accuracy: 0.8984\n",
      "Epoch 10/10\n",
      "1666/1688 [============================>.] - ETA: 0s - loss: 0.2611 - accuracy: 0.9025WARNING:tensorflow:Can save best model only with val_accuracy available, skipping.\n",
      "1688/1688 [==============================] - 2s 1ms/step - loss: 0.2610 - accuracy: 0.9026\n"
     ]
    }
   ],
   "source": [
    "stats = model_fashion.fit(train_ds, epochs=10, verbose=1, callbacks=[cp_callback])"
   ]
  },
  {
   "cell_type": "markdown",
   "id": "f1acb54d",
   "metadata": {},
   "source": [
    "Wynik został podniesiony o 1,5%. Działanie to było bezcelowe, mogłem po prostu zwiększyć ilość epok przy pierwszym treningu."
   ]
  },
  {
   "cell_type": "markdown",
   "id": "2f61b4a1",
   "metadata": {},
   "source": [
    "Zapisujemy model"
   ]
  },
  {
   "cell_type": "code",
   "execution_count": 79,
   "id": "06ba9fe7",
   "metadata": {},
   "outputs": [
    {
     "name": "stderr",
     "output_type": "stream",
     "text": [
      "A subdirectory or file -p already exists.\n",
      "Error occurred while processing: -p.\n",
      "A subdirectory or file saved_model already exists.\n",
      "Error occurred while processing: saved_model.\n"
     ]
    },
    {
     "name": "stdout",
     "output_type": "stream",
     "text": [
      "INFO:tensorflow:Assets written to: saved_model/model_fashion\\assets\n"
     ]
    }
   ],
   "source": [
    "!mkdir -p saved_model\n",
    "model_fashion.save('saved_model/model_fashion')"
   ]
  },
  {
   "cell_type": "markdown",
   "id": "3dc35d13",
   "metadata": {},
   "source": [
    "# Ewalucja modelu"
   ]
  },
  {
   "cell_type": "code",
   "execution_count": 80,
   "id": "202c3d50",
   "metadata": {},
   "outputs": [],
   "source": [
    "def evaluate_model(model, X_test, y_test, stats):\n",
    "    \n",
    "    # Numeryczne predykcje\n",
    "    y_pred = model_fashion.predict(X_test)\n",
    "    print(\"probs : \", y_pred[2])\n",
    "    print(\"klasa :\", np.argmax(y_pred[2]))\n",
    "    print(\"rzeczywista klasa: \", y_test[2])\n",
    "    \n",
    "    # Wizualizacja wyników treningu modelu\n",
    "    pd.DataFrame(stats.history).plot(figsize=(8, 5))\n",
    "    plt.grid(True)\n",
    "    plt.gca().set_ylim(0, 1)\n",
    "    plt.show()\n",
    "    \n",
    "    # Mierzymy F1 Score\n",
    "    y_pred = np.argmax(y_pred,axis=1)\n",
    "    scores = f1_score(y_test, y_pred, average='macro')\n",
    "    print(f'F1 Score modelu to {scores}')\n",
    "    \n",
    "    # Dodajmy heatmap składającą się z błędnych predykcji modelu, żeby zobaczyć z którymi obrazami nasz model ma problem\n",
    "    conf_mx = confusion_matrix(y_test, y_pred)\n",
    "    row_sums = conf_mx.sum(axis=1, keepdims=True)\n",
    "    norm_conf_mx = conf_mx / row_sums\n",
    "    np.fill_diagonal(norm_conf_mx, 0)\n",
    "    plt.matshow(conf_mx, cmap='Dark2')\n",
    "    plt.title('Confusion Matrix')\n",
    "    plt.show()\n",
    "    \n",
    "    # Właściwy obraz etykiety\n",
    "    plt.imshow(np.array(X_test[2]))\n",
    "    plt.title('Właściwy obraz')\n",
    "    plt.title(y_test[2])"
   ]
  },
  {
   "cell_type": "code",
   "execution_count": 81,
   "id": "55eed121",
   "metadata": {
    "scrolled": false
   },
   "outputs": [
    {
     "name": "stdout",
     "output_type": "stream",
     "text": [
      "188/188 [==============================] - 0s 979us/step\n",
      "probs :  [1.1034963e-06 6.2640680e-08 6.0364113e-05 1.6442084e-09 2.6003090e-07\n",
      " 2.2643225e-04 4.1734990e-07 9.9968982e-01 1.3424043e-05 8.1033313e-06]\n",
      "klasa : 7\n",
      "rzeczywista klasa:  7\n"
     ]
    },
    {
     "data": {
      "image/png": "[encoded data removed]",
      "text/plain": [
       "<Figure size 576x360 with 1 Axes>"
      ]
     },
     "metadata": {
      "needs_background": "light"
     },
     "output_type": "display_data"
    },
    {
     "name": "stdout",
     "output_type": "stream",
     "text": [
      "F1 Score modelu to 0.881516510841249\n"
     ]
    },
    {
     "data": {
      "image/png": "[encoded data removed]",
      "text/plain": [
       "<Figure size 288x288 with 1 Axes>"
      ]
     },
     "metadata": {
      "needs_background": "light"
     },
     "output_type": "display_data"
    },
    {
     "data": {
      "image/png": "[encoded data removed]",
      "text/plain": [
       "<Figure size 432x288 with 1 Axes>"
      ]
     },
     "metadata": {
      "needs_background": "light"
     },
     "output_type": "display_data"
    }
   ],
   "source": [
    "evaluate_model(model_fashion, X_test, y_test, stats)"
   ]
  },
  {
   "cell_type": "markdown",
   "id": "0887da86",
   "metadata": {},
   "source": [
    "Model prawidłowo zaklasyfikował obraz, jednakże ma kilka problemów.\n",
    "\n",
    "Wyświetlone predykcje wskazują nam, że podany obraz, w dużym stopniu, przypominał modelowi obiekty z klas 3,4,6 tj. Dress, Coat, Shirt, co jest dosyć nietypowe. Dodatkowo Model często myli obiekty Shirt z T-Shirt oraz Pullover, jak widać na Confusion Matrix. Wydaje mi się to naturalne z powodu podobieństwa kroju tych ubrań. Warto sprawdzić jak wyglądają obiekty tych klas i zastanowić się w jaki sposób możemy pomóc modelowi je rozróżnić.\n",
    "\n",
    "Model otrzymał wysoki wynik F1 Score, jednak można go znacznie poprawić.\n",
    "\n"
   ]
  },
  {
   "cell_type": "markdown",
   "id": "2413f74c",
   "metadata": {},
   "source": [
    "Komentarz wyżej pisałem dzień wcześniej. Dzisiaj wyniki wyglądają innaczej, są lepsze i nie widać ewidentnych pomyłek modelu."
   ]
  },
  {
   "cell_type": "markdown",
   "id": "c4e80949",
   "metadata": {},
   "source": [
    "# Tworzenie nowych danych przy pomocy Albumentations"
   ]
  },
  {
   "cell_type": "code",
   "execution_count": 82,
   "id": "3b45d37e",
   "metadata": {
    "scrolled": true
   },
   "outputs": [],
   "source": [
    "import albumentations as A\n",
    "\n",
    "def albumentation(data):\n",
    "    \n",
    "    fliped_images = []\n",
    "    \n",
    "    for image in data:\n",
    "        \n",
    "        # Declare an augmentation pipeline\n",
    "        transform = A.Compose([\n",
    "        A.HorizontalFlip(p=1),\n",
    "        A.GaussNoise(var_limit=(0.0001, 0.017), always_apply=True)\n",
    "        ])\n",
    "        \n",
    "        transformed = transform(image=image)\n",
    "        new_image = transformed['image']\n",
    "        fliped_images.append(new_image)\n",
    "        \n",
    "        \n",
    "        \n",
    "    images_2 = np.array(fliped_images)\n",
    "    \n",
    "    return images_2"
   ]
  },
  {
   "cell_type": "markdown",
   "id": "4d98cfa9",
   "metadata": {},
   "source": [
    "Tworzymy nowe obrazy z użyciem funkcji"
   ]
  },
  {
   "cell_type": "code",
   "execution_count": 83,
   "id": "a98697dc",
   "metadata": {},
   "outputs": [],
   "source": [
    "train_2, test_2 = fashion_mnist.load_data()\n",
    "images_2, labels_2 = train_2\n",
    "\n",
    "images_2 = images_2/255.0\n",
    "\n",
    "labels_2 = labels_2.astype(np.int32)"
   ]
  },
  {
   "cell_type": "code",
   "execution_count": 84,
   "id": "f531a75e",
   "metadata": {},
   "outputs": [],
   "source": [
    "new_images = albumentation(images_2)"
   ]
  },
  {
   "cell_type": "code",
   "execution_count": 85,
   "id": "ac51476c",
   "metadata": {},
   "outputs": [
    {
     "data": {
      "text/plain": [
       "(60000, 28, 28)"
      ]
     },
     "execution_count": 85,
     "metadata": {},
     "output_type": "execute_result"
    }
   ],
   "source": [
    "np.shape(new_images)"
   ]
  },
  {
   "cell_type": "markdown",
   "id": "e787006f",
   "metadata": {},
   "source": [
    "Dzielimy dane ponownie"
   ]
  },
  {
   "cell_type": "code",
   "execution_count": 86,
   "id": "36a9bff3",
   "metadata": {},
   "outputs": [],
   "source": [
    "X_train_2, X_test_2, y_train_2, y_test_2 = train_test_split(new_images, labels_2, test_size=0.1, random_state=10, stratify=labels_2)"
   ]
  },
  {
   "cell_type": "code",
   "execution_count": 87,
   "id": "746138fd",
   "metadata": {},
   "outputs": [],
   "source": [
    "train_ds_2 = tf.data.Dataset.from_tensor_slices((X_train_2, y_train_2))"
   ]
  },
  {
   "cell_type": "code",
   "execution_count": 88,
   "id": "62143b49",
   "metadata": {},
   "outputs": [],
   "source": [
    "train_ds_2 = train_ds_2.shuffle(1000).batch(32)"
   ]
  },
  {
   "cell_type": "markdown",
   "id": "01c6e595",
   "metadata": {},
   "source": [
    "Trenujemy model"
   ]
  },
  {
   "cell_type": "code",
   "execution_count": 89,
   "id": "ff6494f2",
   "metadata": {},
   "outputs": [
    {
     "name": "stdout",
     "output_type": "stream",
     "text": [
      "Epoch 1/10\n",
      "1664/1688 [============================>.] - ETA: 0s - loss: 0.4798 - accuracy: 0.8289WARNING:tensorflow:Can save best model only with val_accuracy available, skipping.\n",
      "1688/1688 [==============================] - 3s 2ms/step - loss: 0.4781 - accuracy: 0.8296\n",
      "Epoch 2/10\n",
      "1676/1688 [============================>.] - ETA: 0s - loss: 0.3836 - accuracy: 0.8591WARNING:tensorflow:Can save best model only with val_accuracy available, skipping.\n",
      "1688/1688 [==============================] - 3s 1ms/step - loss: 0.3831 - accuracy: 0.8593\n",
      "Epoch 3/10\n",
      "1656/1688 [============================>.] - ETA: 0s - loss: 0.3577 - accuracy: 0.8683WARNING:tensorflow:Can save best model only with val_accuracy available, skipping.\n",
      "1688/1688 [==============================] - 3s 2ms/step - loss: 0.3578 - accuracy: 0.8682\n",
      "Epoch 4/10\n",
      "1681/1688 [============================>.] - ETA: 0s - loss: 0.3414 - accuracy: 0.8739WARNING:tensorflow:Can save best model only with val_accuracy available, skipping.\n",
      "1688/1688 [==============================] - 3s 2ms/step - loss: 0.3413 - accuracy: 0.8739\n",
      "Epoch 5/10\n",
      "1682/1688 [============================>.] - ETA: 0s - loss: 0.3282 - accuracy: 0.8792WARNING:tensorflow:Can save best model only with val_accuracy available, skipping.\n",
      "1688/1688 [==============================] - 3s 2ms/step - loss: 0.3283 - accuracy: 0.8791\n",
      "Epoch 6/10\n",
      "1688/1688 [==============================] - ETA: 0s - loss: 0.3188 - accuracy: 0.8822WARNING:tensorflow:Can save best model only with val_accuracy available, skipping.\n",
      "1688/1688 [==============================] - 3s 2ms/step - loss: 0.3188 - accuracy: 0.8822\n",
      "Epoch 7/10\n",
      "1681/1688 [============================>.] - ETA: 0s - loss: 0.3087 - accuracy: 0.8848WARNING:tensorflow:Can save best model only with val_accuracy available, skipping.\n",
      "1688/1688 [==============================] - 3s 2ms/step - loss: 0.3086 - accuracy: 0.8848\n",
      "Epoch 8/10\n",
      "1674/1688 [============================>.] - ETA: 0s - loss: 0.2993 - accuracy: 0.8896WARNING:tensorflow:Can save best model only with val_accuracy available, skipping.\n",
      "1688/1688 [==============================] - 2s 1ms/step - loss: 0.2991 - accuracy: 0.8897\n",
      "Epoch 9/10\n",
      "1672/1688 [============================>.] - ETA: 0s - loss: 0.2930 - accuracy: 0.8917WARNING:tensorflow:Can save best model only with val_accuracy available, skipping.\n",
      "1688/1688 [==============================] - 3s 1ms/step - loss: 0.2928 - accuracy: 0.8917\n",
      "Epoch 10/10\n",
      "1676/1688 [============================>.] - ETA: 0s - loss: 0.2858 - accuracy: 0.8922WARNING:tensorflow:Can save best model only with val_accuracy available, skipping.\n",
      "1688/1688 [==============================] - 3s 2ms/step - loss: 0.2861 - accuracy: 0.8921\n"
     ]
    }
   ],
   "source": [
    "stats = model_fashion.fit(train_ds_2, epochs=10, verbose=1, callbacks=[cp_callback])"
   ]
  },
  {
   "cell_type": "code",
   "execution_count": null,
   "id": "29d5fb8b",
   "metadata": {},
   "outputs": [],
   "source": []
  }
 ],
 "metadata": {
  "kernelspec": {
   "display_name": "Python 3 (ipykernel)",
   "language": "python",
   "name": "python3"
  },
  "language_info": {
   "codemirror_mode": {
    "name": "ipython",
    "version": 3
   },
   "file_extension": ".py",
   "mimetype": "text/x-python",
   "name": "python",
   "nbconvert_exporter": "python",
   "pygments_lexer": "ipython3",
   "version": "3.9.12"
  }
 },
 "nbformat": 4,
 "nbformat_minor": 5
}
