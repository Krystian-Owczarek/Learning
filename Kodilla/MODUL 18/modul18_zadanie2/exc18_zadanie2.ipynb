{
 "cells": [
  {
   "cell_type": "markdown",
   "id": "efdaacd0",
   "metadata": {},
   "source": [
    "# NAUKA"
   ]
  },
  {
   "cell_type": "markdown",
   "id": "3f94e724",
   "metadata": {},
   "source": [
    "Import bibliotek"
   ]
  },
  {
   "cell_type": "code",
   "execution_count": 1,
   "id": "6be5ded5",
   "metadata": {},
   "outputs": [],
   "source": [
    "# Podstawy\n",
    "\n",
    "import pandas as pd\n",
    "import numpy as np"
   ]
  },
  {
   "cell_type": "code",
   "execution_count": 32,
   "id": "e41c0d86",
   "metadata": {},
   "outputs": [],
   "source": [
    "# Wizualizacja\n",
    "\n",
    "import matplotlib.pyplot as plt\n",
    "import seaborn as sns"
   ]
  },
  {
   "cell_type": "markdown",
   "id": "1399f6f5",
   "metadata": {},
   "source": [
    "Nauka"
   ]
  },
  {
   "cell_type": "code",
   "execution_count": 3,
   "id": "51ed71e2",
   "metadata": {},
   "outputs": [],
   "source": [
    "import tensorflow as tf\n",
    "\n",
    "dense_layer = tf.keras.layers.Dense(32)\n",
    "\n",
    "# albo bardziej dosłownie\n",
    "\n",
    "dense_layer = tf.keras.layers.Dense(units=32)"
   ]
  },
  {
   "cell_type": "code",
   "execution_count": 4,
   "id": "df83cc61",
   "metadata": {},
   "outputs": [],
   "source": [
    "flatten = tf.keras.layers.Flatten()"
   ]
  },
  {
   "cell_type": "code",
   "execution_count": 5,
   "id": "16815346",
   "metadata": {},
   "outputs": [],
   "source": [
    "seq_model = tf.keras.Sequential([\n",
    "    tf.keras.layers.Flatten(),\n",
    "    tf.keras.layers.Dense(16, name=\"input_layer\"),\n",
    "    tf.keras.layers.Dense(32, name=\"hidden_layer\"),\n",
    "    tf.keras.layers.Dense(4, name=\"output_layer\")\n",
    "])\n",
    "\n",
    "input_data = tf.ones((16, 3, 3))\n",
    "\n",
    "output = seq_model(input_data)"
   ]
  },
  {
   "cell_type": "code",
   "execution_count": 7,
   "id": "329dd828",
   "metadata": {
    "scrolled": true
   },
   "outputs": [
    {
     "name": "stdout",
     "output_type": "stream",
     "text": [
      "tf.Tensor(\n",
      "[[-0.0859749   0.5561688   0.30793285 -0.33146128]\n",
      " [-0.0859749   0.5561688   0.30793285 -0.33146128]\n",
      " [-0.0859749   0.5561688   0.30793285 -0.33146128]\n",
      " [-0.0859749   0.5561688   0.30793285 -0.33146128]\n",
      " [-0.0859749   0.5561688   0.30793285 -0.33146128]\n",
      " [-0.0859749   0.5561688   0.30793285 -0.33146128]\n",
      " [-0.0859749   0.5561688   0.30793285 -0.33146128]\n",
      " [-0.0859749   0.5561688   0.30793285 -0.33146128]\n",
      " [-0.0859749   0.5561688   0.30793285 -0.33146128]\n",
      " [-0.0859749   0.5561688   0.30793285 -0.33146128]\n",
      " [-0.0859749   0.5561688   0.30793285 -0.33146128]\n",
      " [-0.0859749   0.5561688   0.30793285 -0.33146128]\n",
      " [-0.0859749   0.5561688   0.30793285 -0.33146128]\n",
      " [-0.0859749   0.5561688   0.30793285 -0.33146128]\n",
      " [-0.0859749   0.5561688   0.30793285 -0.33146128]\n",
      " [-0.0859749   0.5561688   0.30793285 -0.33146128]], shape=(16, 4), dtype=float32)\n"
     ]
    }
   ],
   "source": [
    "print(output)"
   ]
  },
  {
   "cell_type": "markdown",
   "id": "56ab8087",
   "metadata": {},
   "source": [
    "FASHION MNIST"
   ]
  },
  {
   "cell_type": "code",
   "execution_count": 14,
   "id": "eff68a5a",
   "metadata": {},
   "outputs": [],
   "source": [
    "from keras.datasets import fashion_mnist\n",
    "\n",
    "train, test = fashion_mnist.load_data()"
   ]
  },
  {
   "cell_type": "code",
   "execution_count": 16,
   "id": "026b172b",
   "metadata": {},
   "outputs": [],
   "source": [
    "images, labels = train\n",
    "\n",
    "# normalizacja wartości pikseli (maks. wartość\n",
    "# wynosi 255.0, czyli aby znormalizować nasze dane,\n",
    "# musimy podzielić każdy piksel przez maks. wartość)\n",
    "\n",
    "# skąd się wzięła i co oznacza ta \"maks. wartość\"? W dokumentacji nie widzę o tym wzmianki. Czy to ma coś wspólnego z DPI?\n",
    "\n",
    "images = images/255.0\n",
    "\n",
    "# zapisujemy dane jako int\n",
    "labels = labels.astype(np.int32)"
   ]
  },
  {
   "cell_type": "code",
   "execution_count": 17,
   "id": "487a6fb6",
   "metadata": {},
   "outputs": [],
   "source": [
    "from sklearn.model_selection import train_test_split\n",
    "\n",
    "X_train, X_test, y_train, y_test = \\\n",
    "    train_test_split(images, labels, test_size=0.1)\n",
    "\n",
    "# stworzenie zbioru typu Dataset z naszej listy\n",
    "train_ds = tf.data.Dataset.from_tensor_slices((X_train, y_train))\n",
    "\n",
    "# ustawienie batch_size na 32 oraz przetasowanie na bazie 1000 próbek\n",
    "train_ds = train_ds.shuffle(1000).batch(32)"
   ]
  },
  {
   "cell_type": "code",
   "execution_count": 34,
   "id": "6c6c82f7",
   "metadata": {},
   "outputs": [],
   "source": [
    "model_2 = tf.keras.Sequential([\n",
    "    tf.keras.layers.Flatten(),\n",
    "    tf.keras.layers.Dense(16, activation='relu', name=\"input_layer\"),\n",
    "    tf.keras.layers.Dense(64, activation='relu', name=\"hidden_layer_1\"),\n",
    "    tf.keras.layers.Dense(32, activation='relu', name=\"hidden_layer_2\"),\n",
    "    tf.keras.layers.Dense(10, activation='softmax', name=\"output_layer\")\n",
    "])"
   ]
  },
  {
   "cell_type": "code",
   "execution_count": 35,
   "id": "389a123e",
   "metadata": {},
   "outputs": [],
   "source": [
    "model_2.compile(optimizer='adam',\n",
    "              loss='sparse_categorical_crossentropy',\n",
    "              metrics=['accuracy'])"
   ]
  },
  {
   "cell_type": "code",
   "execution_count": 36,
   "id": "44ed351d",
   "metadata": {},
   "outputs": [
    {
     "name": "stdout",
     "output_type": "stream",
     "text": [
      "Epoch 1/10\n",
      "1688/1688 [==============================] - 3s 2ms/step - loss: 0.5934 - accuracy: 0.7880\n",
      "Epoch 2/10\n",
      "1688/1688 [==============================] - 2s 1ms/step - loss: 0.4207 - accuracy: 0.8483\n",
      "Epoch 3/10\n",
      "1688/1688 [==============================] - 2s 1ms/step - loss: 0.3902 - accuracy: 0.8582\n",
      "Epoch 4/10\n",
      "1688/1688 [==============================] - 3s 2ms/step - loss: 0.3680 - accuracy: 0.8660\n",
      "Epoch 5/10\n",
      "1688/1688 [==============================] - 3s 2ms/step - loss: 0.3542 - accuracy: 0.8699\n",
      "Epoch 6/10\n",
      "1688/1688 [==============================] - 2s 1ms/step - loss: 0.3430 - accuracy: 0.8741\n",
      "Epoch 7/10\n",
      "1688/1688 [==============================] - 2s 1ms/step - loss: 0.3333 - accuracy: 0.8760\n",
      "Epoch 8/10\n",
      "1688/1688 [==============================] - 3s 1ms/step - loss: 0.3253 - accuracy: 0.8800\n",
      "Epoch 9/10\n",
      "1688/1688 [==============================] - 3s 2ms/step - loss: 0.3197 - accuracy: 0.8826\n",
      "Epoch 10/10\n",
      "1688/1688 [==============================] - 3s 2ms/step - loss: 0.3108 - accuracy: 0.8859\n"
     ]
    }
   ],
   "source": [
    "stats = model_2.fit(train_ds, epochs=10, verbose=1)"
   ]
  },
  {
   "cell_type": "code",
   "execution_count": 37,
   "id": "1dc9c0c0",
   "metadata": {},
   "outputs": [
    {
     "data": {
      "image/png": "[encoded data removed]",
      "text/plain": [
       "<Figure size 576x360 with 1 Axes>"
      ]
     },
     "metadata": {
      "needs_background": "light"
     },
     "output_type": "display_data"
    }
   ],
   "source": [
    "pd.DataFrame(stats.history).plot(figsize=(8, 5))\n",
    "plt.grid(True)\n",
    "plt.gca().set_ylim(0, 1)\n",
    "plt.show()"
   ]
  },
  {
   "cell_type": "code",
   "execution_count": 38,
   "id": "5f5d6cde",
   "metadata": {
    "scrolled": true
   },
   "outputs": [
    {
     "name": "stdout",
     "output_type": "stream",
     "text": [
      "188/188 [==============================] - 0s 841us/step\n",
      "probs :  [3.7623086e-12 1.0000000e+00 8.1625689e-13 5.3648758e-10 1.2091707e-13\n",
      " 1.4352120e-23 2.2513194e-10 7.1607278e-32 3.6641390e-19 9.0775535e-19]\n",
      "klasa : 1\n",
      "rzeczywista klasa:  1\n"
     ]
    }
   ],
   "source": [
    "y_pred = model.predict(X_test)\n",
    "print(\"probs : \", y_pred[2])\n",
    "print(\"klasa :\", np.argmax(y_pred[2]))\n",
    "print(\"rzeczywista klasa: \", y_test[2])"
   ]
  },
  {
   "cell_type": "markdown",
   "id": "7056166b",
   "metadata": {},
   "source": [
    "FUNCTIONAL  API"
   ]
  },
  {
   "cell_type": "code",
   "execution_count": 40,
   "id": "2d0b3fe1",
   "metadata": {},
   "outputs": [
    {
     "name": "stdout",
     "output_type": "stream",
     "text": [
      "KerasTensor(type_spec=TensorSpec(shape=(None, 28, 28), dtype=tf.float32, name='input_2'), name='input_2', description=\"created by layer 'input_2'\")\n",
      "Model: \"model\"\n",
      "__________________________________________________________________________________________________\n",
      " Layer (type)                   Output Shape         Param #     Connected to                     \n",
      "==================================================================================================\n",
      " input_2 (InputLayer)           [(None, 28, 28)]     0           []                               \n",
      "                                                                                                  \n",
      " flatten_4 (Flatten)            (None, 784)          0           ['input_2[0][0]']                \n",
      "                                                                                                  \n",
      " hidden_1 (Dense)               (None, 320)          251200      ['flatten_4[0][0]']              \n",
      "                                                                                                  \n",
      " hidden_2 (Dense)               (None, 150)          48150       ['hidden_1[0][0]']               \n",
      "                                                                                                  \n",
      " concatenate (Concatenate)      (None, 934)          0           ['flatten_4[0][0]',              \n",
      "                                                                  'hidden_2[0][0]']               \n",
      "                                                                                                  \n",
      " dense_2 (Dense)                (None, 10)           9350        ['concatenate[0][0]']            \n",
      "                                                                                                  \n",
      "==================================================================================================\n",
      "Total params: 308,700\n",
      "Trainable params: 308,700\n",
      "Non-trainable params: 0\n",
      "__________________________________________________________________________________________________\n"
     ]
    }
   ],
   "source": [
    "# stworzenie wejścia\n",
    "\n",
    "input = tf.keras.Input(shape=X_train.shape[1:])\n",
    "\n",
    "# możemy wypisać, co ta warstwa przyjmuje - jest to rozmiar\n",
    "# naszego obrazka bez batch_size (który ma wartość None)\n",
    "print(input)\n",
    "\n",
    "# spłaszczenie wejścia\n",
    "input_flat = tf.keras.layers.Flatten(input_shape=[28,28])(input)\n",
    "\n",
    "# nasza kolejna warstwa jest typu Dense, jak poprzednio, ale od razu\n",
    "# i bezpośrednio przekazujemy jej wejście, tak jak funkcji w Pythonie:\n",
    "hidden_1 =tf.keras.layers.Dense(320, activation='relu', name=\"hidden_1\")(input_flat)\n",
    "hidden_2 =tf.keras.layers.Dense(150, activation='relu', name=\"hidden_2\")(hidden_1)\n",
    "\n",
    "# złączamy wyniki z obu warstw za pomocą warstwy typu Concatenate\n",
    "concat_layer = tf.keras.layers.Concatenate()([input_flat, hidden_2])\n",
    "output = tf.keras.layers.Dense(10, activation='softmax')(concat_layer)\n",
    "\n",
    "# tworzymy model, przekazując mu co ma być naszymi wyjściami, a co wejściami\n",
    "model_res = tf.keras.Model(inputs=[input], outputs=[output])\n",
    "\n",
    "# podsumowanie naszego modelu\n",
    "model_res.summary()"
   ]
  },
  {
   "cell_type": "code",
   "execution_count": 43,
   "id": "6aa8a6ff",
   "metadata": {},
   "outputs": [
    {
     "name": "stdout",
     "output_type": "stream",
     "text": [
      "Model: \"model_1\"\n",
      "__________________________________________________________________________________________________\n",
      " Layer (type)                   Output Shape         Param #     Connected to                     \n",
      "==================================================================================================\n",
      " input_5 (InputLayer)           [(None, 1)]          0           []                               \n",
      "                                                                                                  \n",
      " dense_3 (Dense)                (None, 320)          640         ['input_5[0][0]']                \n",
      "                                                                                                  \n",
      " dense_4 (Dense)                (None, 150)          48150       ['dense_3[0][0]']                \n",
      "                                                                                                  \n",
      " concatenate_1 (Concatenate)    (None, 151)          0           ['input_5[0][0]',                \n",
      "                                                                  'dense_4[0][0]']                \n",
      "                                                                                                  \n",
      " input_6 (InputLayer)           [(None, 28, 28)]     0           []                               \n",
      "                                                                                                  \n",
      " dense_5 (Dense)                (None, 10)           1520        ['concatenate_1[0][0]']          \n",
      "                                                                                                  \n",
      "==================================================================================================\n",
      "Total params: 50,310\n",
      "Trainable params: 50,310\n",
      "Non-trainable params: 0\n",
      "__________________________________________________________________________________________________\n"
     ]
    }
   ],
   "source": [
    "text = np.array([[\"ala ma kota\"]])\n",
    "\n",
    "input_1 = tf.keras.Input(shape=text.shape[1:])\n",
    "input_2 = tf.keras.Input(shape=X_train.shape[1:])\n",
    "\n",
    "# nasza kolejna warstwa jest typu Dense, jak poprzednio,\n",
    "# ale od razu przekazujemy jej wejście, tak jak funkcji w Pythonie\n",
    "hidden_1 =tf.keras.layers.Dense(320, activation='relu')(input_1)\n",
    "hidden_2 =tf.keras.layers.Dense(150, activation='relu')(hidden_1)\n",
    "\n",
    "# złączamy wyniki naszych warstw za pomocą warstwy\n",
    "# typu Concatenate podając jako argumenty input_1 oraz hidden_2\n",
    "concat_layer = tf.keras.layers.Concatenate()([input_1, hidden_2])\n",
    "output = tf.keras.layers.Dense(10, activation='softmax')(concat_layer)\n",
    "\n",
    "# tworzymy model, przekazując mu co ma być naszymi wyjściami, a co wejściami\n",
    "model = tf.keras.Model(inputs=[input_1, input_2], outputs=[output])\n",
    "\n",
    "# podsumowanie naszego modelu\n",
    "model.summary()"
   ]
  },
  {
   "cell_type": "code",
   "execution_count": 44,
   "id": "84ed66ea",
   "metadata": {},
   "outputs": [
    {
     "name": "stdout",
     "output_type": "stream",
     "text": [
      "Epoch 1/10\n",
      "1688/1688 [==============================] - 5s 3ms/step - loss: 0.4825 - accuracy: 0.8262\n",
      "Epoch 2/10\n",
      "1688/1688 [==============================] - 4s 2ms/step - loss: 0.3623 - accuracy: 0.8683\n",
      "Epoch 3/10\n",
      "1688/1688 [==============================] - 4s 2ms/step - loss: 0.3284 - accuracy: 0.8795\n",
      "Epoch 4/10\n",
      "1688/1688 [==============================] - 5s 3ms/step - loss: 0.3031 - accuracy: 0.8888\n",
      "Epoch 5/10\n",
      "1688/1688 [==============================] - 5s 3ms/step - loss: 0.2828 - accuracy: 0.8944\n",
      "Epoch 6/10\n",
      "1688/1688 [==============================] - 5s 3ms/step - loss: 0.2693 - accuracy: 0.8988\n",
      "Epoch 7/10\n",
      "1688/1688 [==============================] - 5s 3ms/step - loss: 0.2541 - accuracy: 0.9052\n",
      "Epoch 8/10\n",
      "1688/1688 [==============================] - 5s 3ms/step - loss: 0.2422 - accuracy: 0.9095\n",
      "Epoch 9/10\n",
      "1688/1688 [==============================] - 5s 3ms/step - loss: 0.2329 - accuracy: 0.9125\n",
      "Epoch 10/10\n",
      "1688/1688 [==============================] - 5s 3ms/step - loss: 0.2230 - accuracy: 0.9145\n"
     ]
    }
   ],
   "source": [
    "# kompilacja\n",
    "model_res.compile(\n",
    "    loss='sparse_categorical_crossentropy',\n",
    "    optimizer='adam',\n",
    "    metrics=['accuracy']\n",
    ")\n",
    "\n",
    "#szkolenie na takich samych danych jak poprzednio\n",
    "train_stats = model_res.fit(train_ds, epochs=10, verbose=1)"
   ]
  },
  {
   "cell_type": "code",
   "execution_count": null,
   "id": "6ed9ef90",
   "metadata": {},
   "outputs": [],
   "source": []
  }
 ],
 "metadata": {
  "kernelspec": {
   "display_name": "Python 3 (ipykernel)",
   "language": "python",
   "name": "python3"
  },
  "language_info": {
   "codemirror_mode": {
    "name": "ipython",
    "version": 3
   },
   "file_extension": ".py",
   "mimetype": "text/x-python",
   "name": "python",
   "nbconvert_exporter": "python",
   "pygments_lexer": "ipython3",
   "version": "3.9.12"
  }
 },
 "nbformat": 4,
 "nbformat_minor": 5
}
