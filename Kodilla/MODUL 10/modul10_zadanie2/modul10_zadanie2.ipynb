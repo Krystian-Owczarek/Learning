{
 "cells": [
  {
   "cell_type": "code",
   "execution_count": 54,
   "id": "8f22e77f",
   "metadata": {},
   "outputs": [],
   "source": [
    "# manipulacja danymi\n",
    "import numpy as np\n",
    "import pandas as pd\n",
    "\n",
    "# wizualizacja danych\n",
    "import matplotlib.pyplot as plt\n",
    "import seaborn as sns\n",
    "\n",
    "# statystyczna analiza danych\n",
    "from scipy import stats"
   ]
  },
  {
   "cell_type": "code",
   "execution_count": 64,
   "id": "b7fdb7bf",
   "metadata": {},
   "outputs": [
    {
     "data": {
      "text/plain": [
       "\"\\n_set, density=True, edgecolor='black', bins=28)\\nplt.show()\\nprint('Prawdopodobieństwo, że w następnych 15 minutach będzie 5 połączeń:')\\nprint(np.round(1 - stats.poisson.cdf(k=5, mu=10), 2))\\n\""
      ]
     },
     "execution_count": 64,
     "metadata": {},
     "output_type": "execute_result"
    }
   ],
   "source": [
    "'''\n",
    "_set, density=True, edgecolor='black', bins=28)\n",
    "plt.show()\n",
    "print('Prawdopodobieństwo, że w następnych 15 minutach będzie 5 połączeń:')\n",
    "print(np.round(1 - stats.poisson.cdf(k=5, mu=10), 2))\n",
    "'''\n",
    "#Przekopiowany kod z kodilli jest niepełny. 10.3 - Rozkład Poisson\n"
   ]
  },
  {
   "cell_type": "markdown",
   "id": "162dec52",
   "metadata": {},
   "source": [
    "Stwórz dane z rozkładu normalnego o średniej 3 i odchyleniu standardowym 1 dla 100 oraz 10 000"
   ]
  },
  {
   "cell_type": "code",
   "execution_count": 55,
   "id": "5686e9e6",
   "metadata": {
    "scrolled": true
   },
   "outputs": [],
   "source": [
    "def gauss(x, sigma=1, mu=3):\n",
    "    return stats.norm.pdf(x, mu, sigma)\n",
    "x = np.linspace(0, 100)\n",
    "x2 = np.linspace(0, 10000)"
   ]
  },
  {
   "cell_type": "code",
   "execution_count": 56,
   "id": "c2dbc332",
   "metadata": {},
   "outputs": [
    {
     "data": {
      "text/plain": [
       "[<matplotlib.lines.Line2D at 0x2784aeb7640>]"
      ]
     },
     "execution_count": 56,
     "metadata": {},
     "output_type": "execute_result"
    },
    {
     "data": {
      "image/png": "[encoded data removed]",
      "text/plain": [
       "<Figure size 432x288 with 1 Axes>"
      ]
     },
     "metadata": {
      "needs_background": "light"
     },
     "output_type": "display_data"
    }
   ],
   "source": [
    "plt.plot(x, gauss(x, sigma=1, mu=3), label='odchylenie standardowe = 1, średnia = 3')"
   ]
  },
  {
   "cell_type": "code",
   "execution_count": 57,
   "id": "042a0de0",
   "metadata": {},
   "outputs": [
    {
     "data": {
      "text/plain": [
       "[<matplotlib.lines.Line2D at 0x2784af16880>]"
      ]
     },
     "execution_count": 57,
     "metadata": {},
     "output_type": "execute_result"
    },
    {
     "data": {
      "image/png": "[encoded data removed]",
      "text/plain": [
       "<Figure size 432x288 with 1 Axes>"
      ]
     },
     "metadata": {
      "needs_background": "light"
     },
     "output_type": "display_data"
    }
   ],
   "source": [
    "plt.plot(x2, gauss(x, sigma=1, mu=3), label='odchylenie standardowe = 1, średnia = 3')"
   ]
  },
  {
   "cell_type": "markdown",
   "id": "68717a19",
   "metadata": {},
   "source": [
    "Na podstawie tych sztucznie stworzonych zbiorów oblicz statystyki poznane w module statystki opisowej."
   ]
  },
  {
   "cell_type": "code",
   "execution_count": 59,
   "id": "83d0f7fa",
   "metadata": {},
   "outputs": [
    {
     "name": "stdout",
     "output_type": "stream",
     "text": [
      "50.0\n",
      "50.0\n",
      "ModeResult(mode=array([0.]), count=array([1]))\n",
      "0.0\n",
      "25.0\n",
      "75.0\n",
      "100.0\n",
      "100.0\n",
      "50.0\n",
      "885.0478967097044\n",
      "29.74975456553725\n"
     ]
    }
   ],
   "source": [
    "mean_x = np.round(np.mean(x))\n",
    "print(mean_x)\n",
    "\n",
    "median_x = np.median(x)\n",
    "print(median_x)\n",
    "\n",
    "mode_x = stats.mode(x)\n",
    "print(mode_x)\n",
    "\n",
    "x_q0 = np.quantile(x, 0.0)\n",
    "x_q1 = np.round(np.quantile(x, 0.25))\n",
    "x_q3 = np.round(np.quantile(x, 0.75))\n",
    "x_q4 = np.round(np.quantile(x, 1.0))\n",
    "print(x_q0)\n",
    "print(x_q1)\n",
    "print(x_q3)\n",
    "print(x_q4)\n",
    "\n",
    "range_x = max(x) - min(x)\n",
    "print(range_x)\n",
    "\n",
    "iqr_x = x_q3 - x_q1\n",
    "print(iqr_x)\n",
    "\n",
    "variance_x = np.var(x, ddof=1)\n",
    "print(variance_x)\n",
    "\n",
    "standard_deviation_x = np.std(x, ddof=1)\n",
    "print(standard_deviation_x)"
   ]
  },
  {
   "cell_type": "code",
   "execution_count": 60,
   "id": "7aad6090",
   "metadata": {
    "scrolled": true
   },
   "outputs": [
    {
     "name": "stdout",
     "output_type": "stream",
     "text": [
      "5000.0\n",
      "5000.0\n",
      "ModeResult(mode=array([0.]), count=array([1]))\n",
      "0.0\n",
      "2500.0\n",
      "7500.0\n",
      "10000.0\n",
      "10000.0\n",
      "5000.0\n",
      "8850478.967097042\n",
      "2974.9754565537246\n"
     ]
    }
   ],
   "source": [
    "mean_x2 = np.round(np.mean(x2))\n",
    "print(mean_x2)\n",
    "\n",
    "median_x2 = np.median(x2)\n",
    "print(median_x2)\n",
    "\n",
    "mode_x2 = stats.mode(x2)\n",
    "print(mode_x2)\n",
    "\n",
    "x2_q0 = np.quantile(x2, 0.0)\n",
    "x2_q1 = np.round(np.quantile(x2, 0.25))\n",
    "x2_q3 = np.round(np.quantile(x2, 0.75))\n",
    "x2_q4 = np.round(np.quantile(x2, 1.0))\n",
    "print(x2_q0)\n",
    "print(x2_q1)\n",
    "print(x2_q3)\n",
    "print(x2_q4)\n",
    "\n",
    "range_x2 = max(x2) - min(x2)\n",
    "print(range_x2)\n",
    "\n",
    "iqr_x2 = x2_q3 - x2_q1\n",
    "print(iqr_x2)\n",
    "\n",
    "variance_x2 = np.var(x2, ddof=1)\n",
    "print(variance_x2 )\n",
    "\n",
    "standard_deviation_x2 = np.std(x2, ddof=1)\n",
    "print(standard_deviation_x2)"
   ]
  },
  {
   "cell_type": "code",
   "execution_count": null,
   "id": "6eef351c",
   "metadata": {},
   "outputs": [],
   "source": [
    "print(gauss(100, sigma=1, mu=3))"
   ]
  },
  {
   "cell_type": "code",
   "execution_count": null,
   "id": "70d0d2e9",
   "metadata": {},
   "outputs": [],
   "source": [
    "print(gauss(10000, sigma=1, mu=3))"
   ]
  },
  {
   "cell_type": "markdown",
   "id": "764de8ac",
   "metadata": {},
   "source": [
    "Opisz różnice pomiędzy statystkami i wynik swojej pracy wyślij Mentorowi jako Jupyter Noteboook zapisany w Github."
   ]
  },
  {
   "cell_type": "markdown",
   "id": "e154155c",
   "metadata": {},
   "source": [
    "Dane podstawione różnią się jedynie skalą. Odpowiednie przestawienie przecinka w danych z x2 lub x, pozwoli nam na otrzymanie tych samych liczb."
   ]
  },
  {
   "cell_type": "markdown",
   "id": "763eae04",
   "metadata": {},
   "source": [
    "Czy w takim razie dobrze stworzyłem dane? "
   ]
  },
  {
   "cell_type": "code",
   "execution_count": null,
   "id": "aeb99922",
   "metadata": {},
   "outputs": [],
   "source": []
  }
 ],
 "metadata": {
  "kernelspec": {
   "display_name": "Python 3 (ipykernel)",
   "language": "python",
   "name": "python3"
  },
  "language_info": {
   "codemirror_mode": {
    "name": "ipython",
    "version": 3
   },
   "file_extension": ".py",
   "mimetype": "text/x-python",
   "name": "python",
   "nbconvert_exporter": "python",
   "pygments_lexer": "ipython3",
   "version": "3.9.12"
  }
 },
 "nbformat": 4,
 "nbformat_minor": 5
}
