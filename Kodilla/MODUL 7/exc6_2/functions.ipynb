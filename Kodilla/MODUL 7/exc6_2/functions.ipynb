{
 "cells": [
  {
   "cell_type": "markdown",
   "id": "06970a61",
   "metadata": {},
   "source": [
    "Aby stworzyć funkcję używamy słowa def\n",
    "Wpisujemy nazwę naszej funkcji np. calculate_data\n",
    "Zdanie kończymy nawiasami () do których można wrzucać zmienne i dodajemy :"
   ]
  },
  {
   "cell_type": "code",
   "execution_count": 16,
   "id": "f5854757",
   "metadata": {},
   "outputs": [],
   "source": [
    "def calculate_data(a,b):\n",
    "    c = a+b\n",
    "    print(c)"
   ]
  },
  {
   "cell_type": "markdown",
   "id": "edf4544f",
   "metadata": {},
   "source": [
    "Taką funkcję możemy wykorzystać w przyszłości\n",
    "Aby to zrobić wystarczy podać nazwę funkcji wraz z nawiasami calculate_data()\n",
    "Następnie 'wrzucić' odpowiednie zmienne do nawiasów aby wykonać na nich działanie calculate_data(5, 7)"
   ]
  },
  {
   "cell_type": "code",
   "execution_count": 17,
   "id": "9bd7a7f7",
   "metadata": {},
   "outputs": [
    {
     "name": "stdout",
     "output_type": "stream",
     "text": [
      "12\n"
     ]
    }
   ],
   "source": [
    "calculate_data(5,7)"
   ]
  }
 ],
 "metadata": {
  "kernelspec": {
   "display_name": "Python 3 (ipykernel)",
   "language": "python",
   "name": "python3"
  },
  "language_info": {
   "codemirror_mode": {
    "name": "ipython",
    "version": 3
   },
   "file_extension": ".py",
   "mimetype": "text/x-python",
   "name": "python",
   "nbconvert_exporter": "python",
   "pygments_lexer": "ipython3",
   "version": "3.9.12"
  }
 },
 "nbformat": 4,
 "nbformat_minor": 5
}
